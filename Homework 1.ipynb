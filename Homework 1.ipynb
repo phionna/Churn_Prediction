{
 "cells": [
  {
   "cell_type": "markdown",
   "metadata": {},
   "source": [
    "# Data-Driven Decision Making Homework 1"
   ]
  },
  {
   "cell_type": "markdown",
   "metadata": {},
   "source": [
    "### Phionna Teo"
   ]
  },
  {
   "cell_type": "markdown",
   "metadata": {},
   "source": [
    "## Question 1"
   ]
  },
  {
   "cell_type": "code",
   "execution_count": 1,
   "metadata": {},
   "outputs": [],
   "source": [
    " %matplotlib inline\n",
    "import pandas as pd\n",
    "from sklearn.model_selection import train_test_split\n",
    "import matplotlib.pyplot as plt\n",
    "import numpy as np\n",
    "import pandas as pd\n",
    "import seaborn as sn\n",
    "\n",
    "#Reading the data in\n",
    "df = pd.read_csv('Customer-Churn.csv')"
   ]
  },
  {
   "cell_type": "code",
   "execution_count": 54,
   "metadata": {},
   "outputs": [
    {
     "data": {
      "text/html": [
       "<div>\n",
       "<style scoped>\n",
       "    .dataframe tbody tr th:only-of-type {\n",
       "        vertical-align: middle;\n",
       "    }\n",
       "\n",
       "    .dataframe tbody tr th {\n",
       "        vertical-align: top;\n",
       "    }\n",
       "\n",
       "    .dataframe thead th {\n",
       "        text-align: right;\n",
       "    }\n",
       "</style>\n",
       "<table border=\"1\" class=\"dataframe\">\n",
       "  <thead>\n",
       "    <tr style=\"text-align: right;\">\n",
       "      <th></th>\n",
       "      <th>customerID</th>\n",
       "      <th>gender</th>\n",
       "      <th>SeniorCitizen</th>\n",
       "      <th>Partner</th>\n",
       "      <th>Dependents</th>\n",
       "      <th>tenure</th>\n",
       "      <th>PhoneService</th>\n",
       "      <th>MultipleLines</th>\n",
       "      <th>InternetService</th>\n",
       "      <th>OnlineSecurity</th>\n",
       "      <th>...</th>\n",
       "      <th>DeviceProtection</th>\n",
       "      <th>TechSupport</th>\n",
       "      <th>StreamingTV</th>\n",
       "      <th>StreamingMovies</th>\n",
       "      <th>Contract</th>\n",
       "      <th>PaperlessBilling</th>\n",
       "      <th>PaymentMethod</th>\n",
       "      <th>MonthlyCharges</th>\n",
       "      <th>TotalCharges</th>\n",
       "      <th>Churn</th>\n",
       "    </tr>\n",
       "  </thead>\n",
       "  <tbody>\n",
       "    <tr>\n",
       "      <th>0</th>\n",
       "      <td>2967-MXRAV</td>\n",
       "      <td>Male</td>\n",
       "      <td>0</td>\n",
       "      <td>Yes</td>\n",
       "      <td>Yes</td>\n",
       "      <td>1</td>\n",
       "      <td>Yes</td>\n",
       "      <td>No</td>\n",
       "      <td>No</td>\n",
       "      <td>No internet service</td>\n",
       "      <td>...</td>\n",
       "      <td>No internet service</td>\n",
       "      <td>No internet service</td>\n",
       "      <td>No internet service</td>\n",
       "      <td>No internet service</td>\n",
       "      <td>One year</td>\n",
       "      <td>No</td>\n",
       "      <td>Mailed check</td>\n",
       "      <td>18.80</td>\n",
       "      <td>18.80</td>\n",
       "      <td>No</td>\n",
       "    </tr>\n",
       "    <tr>\n",
       "      <th>1</th>\n",
       "      <td>8992-CEUEN</td>\n",
       "      <td>Female</td>\n",
       "      <td>0</td>\n",
       "      <td>No</td>\n",
       "      <td>No</td>\n",
       "      <td>1</td>\n",
       "      <td>Yes</td>\n",
       "      <td>No</td>\n",
       "      <td>No</td>\n",
       "      <td>No internet service</td>\n",
       "      <td>...</td>\n",
       "      <td>No internet service</td>\n",
       "      <td>No internet service</td>\n",
       "      <td>No internet service</td>\n",
       "      <td>No internet service</td>\n",
       "      <td>Month-to-month</td>\n",
       "      <td>No</td>\n",
       "      <td>Electronic check</td>\n",
       "      <td>18.85</td>\n",
       "      <td>18.85</td>\n",
       "      <td>No</td>\n",
       "    </tr>\n",
       "    <tr>\n",
       "      <th>2</th>\n",
       "      <td>9318-NKNFC</td>\n",
       "      <td>Male</td>\n",
       "      <td>0</td>\n",
       "      <td>No</td>\n",
       "      <td>No</td>\n",
       "      <td>1</td>\n",
       "      <td>Yes</td>\n",
       "      <td>No</td>\n",
       "      <td>No</td>\n",
       "      <td>No internet service</td>\n",
       "      <td>...</td>\n",
       "      <td>No internet service</td>\n",
       "      <td>No internet service</td>\n",
       "      <td>No internet service</td>\n",
       "      <td>No internet service</td>\n",
       "      <td>Month-to-month</td>\n",
       "      <td>Yes</td>\n",
       "      <td>Mailed check</td>\n",
       "      <td>18.85</td>\n",
       "      <td>18.85</td>\n",
       "      <td>Yes</td>\n",
       "    </tr>\n",
       "    <tr>\n",
       "      <th>3</th>\n",
       "      <td>9975-SKRNR</td>\n",
       "      <td>Male</td>\n",
       "      <td>0</td>\n",
       "      <td>No</td>\n",
       "      <td>No</td>\n",
       "      <td>1</td>\n",
       "      <td>Yes</td>\n",
       "      <td>No</td>\n",
       "      <td>No</td>\n",
       "      <td>No internet service</td>\n",
       "      <td>...</td>\n",
       "      <td>No internet service</td>\n",
       "      <td>No internet service</td>\n",
       "      <td>No internet service</td>\n",
       "      <td>No internet service</td>\n",
       "      <td>Month-to-month</td>\n",
       "      <td>No</td>\n",
       "      <td>Mailed check</td>\n",
       "      <td>18.90</td>\n",
       "      <td>18.90</td>\n",
       "      <td>No</td>\n",
       "    </tr>\n",
       "    <tr>\n",
       "      <th>4</th>\n",
       "      <td>1423-BMPBQ</td>\n",
       "      <td>Female</td>\n",
       "      <td>0</td>\n",
       "      <td>Yes</td>\n",
       "      <td>Yes</td>\n",
       "      <td>1</td>\n",
       "      <td>Yes</td>\n",
       "      <td>No</td>\n",
       "      <td>No</td>\n",
       "      <td>No internet service</td>\n",
       "      <td>...</td>\n",
       "      <td>No internet service</td>\n",
       "      <td>No internet service</td>\n",
       "      <td>No internet service</td>\n",
       "      <td>No internet service</td>\n",
       "      <td>Month-to-month</td>\n",
       "      <td>Yes</td>\n",
       "      <td>Mailed check</td>\n",
       "      <td>19.00</td>\n",
       "      <td>19.00</td>\n",
       "      <td>No</td>\n",
       "    </tr>\n",
       "  </tbody>\n",
       "</table>\n",
       "<p>5 rows × 21 columns</p>\n",
       "</div>"
      ],
      "text/plain": [
       "   customerID  gender  SeniorCitizen Partner Dependents  tenure PhoneService  \\\n",
       "0  2967-MXRAV    Male              0     Yes        Yes       1          Yes   \n",
       "1  8992-CEUEN  Female              0      No         No       1          Yes   \n",
       "2  9318-NKNFC    Male              0      No         No       1          Yes   \n",
       "3  9975-SKRNR    Male              0      No         No       1          Yes   \n",
       "4  1423-BMPBQ  Female              0     Yes        Yes       1          Yes   \n",
       "\n",
       "  MultipleLines InternetService       OnlineSecurity  ...  \\\n",
       "0            No              No  No internet service  ...   \n",
       "1            No              No  No internet service  ...   \n",
       "2            No              No  No internet service  ...   \n",
       "3            No              No  No internet service  ...   \n",
       "4            No              No  No internet service  ...   \n",
       "\n",
       "      DeviceProtection          TechSupport          StreamingTV  \\\n",
       "0  No internet service  No internet service  No internet service   \n",
       "1  No internet service  No internet service  No internet service   \n",
       "2  No internet service  No internet service  No internet service   \n",
       "3  No internet service  No internet service  No internet service   \n",
       "4  No internet service  No internet service  No internet service   \n",
       "\n",
       "       StreamingMovies        Contract PaperlessBilling     PaymentMethod  \\\n",
       "0  No internet service        One year               No      Mailed check   \n",
       "1  No internet service  Month-to-month               No  Electronic check   \n",
       "2  No internet service  Month-to-month              Yes      Mailed check   \n",
       "3  No internet service  Month-to-month               No      Mailed check   \n",
       "4  No internet service  Month-to-month              Yes      Mailed check   \n",
       "\n",
       "  MonthlyCharges  TotalCharges  Churn  \n",
       "0          18.80         18.80     No  \n",
       "1          18.85         18.85     No  \n",
       "2          18.85         18.85    Yes  \n",
       "3          18.90         18.90     No  \n",
       "4          19.00         19.00     No  \n",
       "\n",
       "[5 rows x 21 columns]"
      ]
     },
     "execution_count": 54,
     "metadata": {},
     "output_type": "execute_result"
    }
   ],
   "source": [
    "df.head()"
   ]
  },
  {
   "cell_type": "code",
   "execution_count": 2,
   "metadata": {},
   "outputs": [],
   "source": [
    "x_cols = df.columns[1:-1]\n",
    "X = df[x_cols]\n",
    "Y = df[\"Churn\"]\n",
    "\n",
    "#Splitting the data into train and test sets\n",
    "\n",
    "X_train, X_test, Y_train, Y_test = train_test_split(X, Y, test_size=0.3, random_state = 5)"
   ]
  },
  {
   "cell_type": "code",
   "execution_count": 56,
   "metadata": {},
   "outputs": [
    {
     "data": {
      "text/html": [
       "<div>\n",
       "<style scoped>\n",
       "    .dataframe tbody tr th:only-of-type {\n",
       "        vertical-align: middle;\n",
       "    }\n",
       "\n",
       "    .dataframe tbody tr th {\n",
       "        vertical-align: top;\n",
       "    }\n",
       "\n",
       "    .dataframe thead th {\n",
       "        text-align: right;\n",
       "    }\n",
       "</style>\n",
       "<table border=\"1\" class=\"dataframe\">\n",
       "  <thead>\n",
       "    <tr style=\"text-align: right;\">\n",
       "      <th></th>\n",
       "      <th>gender</th>\n",
       "      <th>SeniorCitizen</th>\n",
       "      <th>Partner</th>\n",
       "      <th>Dependents</th>\n",
       "      <th>tenure</th>\n",
       "      <th>PhoneService</th>\n",
       "      <th>MultipleLines</th>\n",
       "      <th>InternetService</th>\n",
       "      <th>OnlineSecurity</th>\n",
       "      <th>OnlineBackup</th>\n",
       "      <th>DeviceProtection</th>\n",
       "      <th>TechSupport</th>\n",
       "      <th>StreamingTV</th>\n",
       "      <th>StreamingMovies</th>\n",
       "      <th>Contract</th>\n",
       "      <th>PaperlessBilling</th>\n",
       "      <th>PaymentMethod</th>\n",
       "      <th>MonthlyCharges</th>\n",
       "      <th>TotalCharges</th>\n",
       "    </tr>\n",
       "  </thead>\n",
       "  <tbody>\n",
       "    <tr>\n",
       "      <th>2655</th>\n",
       "      <td>Female</td>\n",
       "      <td>0</td>\n",
       "      <td>No</td>\n",
       "      <td>No</td>\n",
       "      <td>12</td>\n",
       "      <td>Yes</td>\n",
       "      <td>Yes</td>\n",
       "      <td>DSL</td>\n",
       "      <td>No</td>\n",
       "      <td>No</td>\n",
       "      <td>No</td>\n",
       "      <td>Yes</td>\n",
       "      <td>Yes</td>\n",
       "      <td>Yes</td>\n",
       "      <td>One year</td>\n",
       "      <td>Yes</td>\n",
       "      <td>Mailed check</td>\n",
       "      <td>75.85</td>\n",
       "      <td>854.45</td>\n",
       "    </tr>\n",
       "    <tr>\n",
       "      <th>743</th>\n",
       "      <td>Male</td>\n",
       "      <td>0</td>\n",
       "      <td>No</td>\n",
       "      <td>No</td>\n",
       "      <td>1</td>\n",
       "      <td>Yes</td>\n",
       "      <td>No</td>\n",
       "      <td>Fiber optic</td>\n",
       "      <td>No</td>\n",
       "      <td>No</td>\n",
       "      <td>No</td>\n",
       "      <td>No</td>\n",
       "      <td>Yes</td>\n",
       "      <td>Yes</td>\n",
       "      <td>Month-to-month</td>\n",
       "      <td>Yes</td>\n",
       "      <td>Electronic check</td>\n",
       "      <td>89.55</td>\n",
       "      <td>89.55</td>\n",
       "    </tr>\n",
       "    <tr>\n",
       "      <th>5570</th>\n",
       "      <td>Male</td>\n",
       "      <td>0</td>\n",
       "      <td>Yes</td>\n",
       "      <td>No</td>\n",
       "      <td>52</td>\n",
       "      <td>Yes</td>\n",
       "      <td>Yes</td>\n",
       "      <td>DSL</td>\n",
       "      <td>Yes</td>\n",
       "      <td>Yes</td>\n",
       "      <td>Yes</td>\n",
       "      <td>Yes</td>\n",
       "      <td>No</td>\n",
       "      <td>Yes</td>\n",
       "      <td>One year</td>\n",
       "      <td>Yes</td>\n",
       "      <td>Credit card (automatic)</td>\n",
       "      <td>81.40</td>\n",
       "      <td>4354.45</td>\n",
       "    </tr>\n",
       "    <tr>\n",
       "      <th>64</th>\n",
       "      <td>Male</td>\n",
       "      <td>0</td>\n",
       "      <td>No</td>\n",
       "      <td>No</td>\n",
       "      <td>1</td>\n",
       "      <td>Yes</td>\n",
       "      <td>No</td>\n",
       "      <td>No</td>\n",
       "      <td>No internet service</td>\n",
       "      <td>No internet service</td>\n",
       "      <td>No internet service</td>\n",
       "      <td>No internet service</td>\n",
       "      <td>No internet service</td>\n",
       "      <td>No internet service</td>\n",
       "      <td>Month-to-month</td>\n",
       "      <td>No</td>\n",
       "      <td>Mailed check</td>\n",
       "      <td>19.80</td>\n",
       "      <td>19.80</td>\n",
       "    </tr>\n",
       "    <tr>\n",
       "      <th>3282</th>\n",
       "      <td>Male</td>\n",
       "      <td>0</td>\n",
       "      <td>No</td>\n",
       "      <td>No</td>\n",
       "      <td>16</td>\n",
       "      <td>Yes</td>\n",
       "      <td>Yes</td>\n",
       "      <td>Fiber optic</td>\n",
       "      <td>No</td>\n",
       "      <td>Yes</td>\n",
       "      <td>No</td>\n",
       "      <td>No</td>\n",
       "      <td>No</td>\n",
       "      <td>No</td>\n",
       "      <td>Month-to-month</td>\n",
       "      <td>Yes</td>\n",
       "      <td>Mailed check</td>\n",
       "      <td>80.55</td>\n",
       "      <td>1248.90</td>\n",
       "    </tr>\n",
       "  </tbody>\n",
       "</table>\n",
       "</div>"
      ],
      "text/plain": [
       "      gender  SeniorCitizen Partner Dependents  tenure PhoneService  \\\n",
       "2655  Female              0      No         No      12          Yes   \n",
       "743     Male              0      No         No       1          Yes   \n",
       "5570    Male              0     Yes         No      52          Yes   \n",
       "64      Male              0      No         No       1          Yes   \n",
       "3282    Male              0      No         No      16          Yes   \n",
       "\n",
       "     MultipleLines InternetService       OnlineSecurity         OnlineBackup  \\\n",
       "2655           Yes             DSL                   No                   No   \n",
       "743             No     Fiber optic                   No                   No   \n",
       "5570           Yes             DSL                  Yes                  Yes   \n",
       "64              No              No  No internet service  No internet service   \n",
       "3282           Yes     Fiber optic                   No                  Yes   \n",
       "\n",
       "         DeviceProtection          TechSupport          StreamingTV  \\\n",
       "2655                   No                  Yes                  Yes   \n",
       "743                    No                   No                  Yes   \n",
       "5570                  Yes                  Yes                   No   \n",
       "64    No internet service  No internet service  No internet service   \n",
       "3282                   No                   No                   No   \n",
       "\n",
       "          StreamingMovies        Contract PaperlessBilling  \\\n",
       "2655                  Yes        One year              Yes   \n",
       "743                   Yes  Month-to-month              Yes   \n",
       "5570                  Yes        One year              Yes   \n",
       "64    No internet service  Month-to-month               No   \n",
       "3282                   No  Month-to-month              Yes   \n",
       "\n",
       "                PaymentMethod  MonthlyCharges  TotalCharges  \n",
       "2655             Mailed check           75.85        854.45  \n",
       "743          Electronic check           89.55         89.55  \n",
       "5570  Credit card (automatic)           81.40       4354.45  \n",
       "64               Mailed check           19.80         19.80  \n",
       "3282             Mailed check           80.55       1248.90  "
      ]
     },
     "execution_count": 56,
     "metadata": {},
     "output_type": "execute_result"
    }
   ],
   "source": [
    "X_test.head()"
   ]
  },
  {
   "cell_type": "code",
   "execution_count": 57,
   "metadata": {},
   "outputs": [],
   "source": [
    "#For descriptive analysis, lets split the data category into those that have factor-type data and those that have numeric data\n",
    "categorical_headers = list(X_train.columns.values)\n",
    "categorical_headers = [e for e in categorical_headers if e not in ('tenure','MonthlyCharges','TotalCharges')]"
   ]
  },
  {
   "cell_type": "code",
   "execution_count": 58,
   "metadata": {},
   "outputs": [
    {
     "data": {
      "image/png": "[encoded data removed]",
      "text/plain": [
       "<Figure size 432x288 with 1 Axes>"
      ]
     },
     "metadata": {
      "needs_background": "light"
     },
     "output_type": "display_data"
    },
    {
     "data": {
      "image/png": "[encoded data removed]",
      "text/plain": [
       "<Figure size 432x288 with 1 Axes>"
      ]
     },
     "metadata": {
      "needs_background": "light"
     },
     "output_type": "display_data"
    },
    {
     "data": {
      "image/png": "[encoded data removed]",
      "text/plain": [
       "<Figure size 432x288 with 1 Axes>"
      ]
     },
     "metadata": {
      "needs_background": "light"
     },
     "output_type": "display_data"
    },
    {
     "data": {
      "image/png": "[encoded data removed]",
      "text/plain": [
       "<Figure size 432x288 with 1 Axes>"
      ]
     },
     "metadata": {
      "needs_background": "light"
     },
     "output_type": "display_data"
    },
    {
     "data": {
      "image/png": "[encoded data removed]",
      "text/plain": [
       "<Figure size 432x288 with 1 Axes>"
      ]
     },
     "metadata": {
      "needs_background": "light"
     },
     "output_type": "display_data"
    },
    {
     "data": {
      "image/png": "[encoded data removed]",
      "text/plain": [
       "<Figure size 432x288 with 1 Axes>"
      ]
     },
     "metadata": {
      "needs_background": "light"
     },
     "output_type": "display_data"
    },
    {
     "data": {
      "image/png": "[encoded data removed]",
      "text/plain": [
       "<Figure size 432x288 with 1 Axes>"
      ]
     },
     "metadata": {
      "needs_background": "light"
     },
     "output_type": "display_data"
    },
    {
     "data": {
      "image/png": "[encoded data removed]",
      "text/plain": [
       "<Figure size 432x288 with 1 Axes>"
      ]
     },
     "metadata": {
      "needs_background": "light"
     },
     "output_type": "display_data"
    },
    {
     "data": {
      "image/png": "[encoded data removed]",
      "text/plain": [
       "<Figure size 432x288 with 1 Axes>"
      ]
     },
     "metadata": {
      "needs_background": "light"
     },
     "output_type": "display_data"
    },
    {
     "data": {
      "image/png": "[encoded data removed]",
      "text/plain": [
       "<Figure size 432x288 with 1 Axes>"
      ]
     },
     "metadata": {
      "needs_background": "light"
     },
     "output_type": "display_data"
    },
    {
     "data": {
      "image/png": "[encoded data removed]",
      "text/plain": [
       "<Figure size 432x288 with 1 Axes>"
      ]
     },
     "metadata": {
      "needs_background": "light"
     },
     "output_type": "display_data"
    },
    {
     "data": {
      "image/png": "[encoded data removed]",
      "text/plain": [
       "<Figure size 432x288 with 1 Axes>"
      ]
     },
     "metadata": {
      "needs_background": "light"
     },
     "output_type": "display_data"
    },
    {
     "data": {
      "image/png": "[encoded data removed]",
      "text/plain": [
       "<Figure size 432x288 with 1 Axes>"
      ]
     },
     "metadata": {
      "needs_background": "light"
     },
     "output_type": "display_data"
    },
    {
     "data": {
      "image/png": "[encoded data removed]",
      "text/plain": [
       "<Figure size 432x288 with 1 Axes>"
      ]
     },
     "metadata": {
      "needs_background": "light"
     },
     "output_type": "display_data"
    },
    {
     "data": {
      "image/png": "[encoded data removed]",
      "text/plain": [
       "<Figure size 432x288 with 1 Axes>"
      ]
     },
     "metadata": {
      "needs_background": "light"
     },
     "output_type": "display_data"
    },
    {
     "data": {
      "image/png": "[encoded data removed]",
      "text/plain": [
       "<Figure size 432x288 with 1 Axes>"
      ]
     },
     "metadata": {
      "needs_background": "light"
     },
     "output_type": "display_data"
    }
   ],
   "source": [
    "#Conduct some univariate descriptive analysis on each independent variable\n",
    "for i in categorical_headers:\n",
    "    bplot = sn.countplot(hue=X_train[i], x=Y_train, data=df)\n",
    "    plt.show()"
   ]
  },
  {
   "cell_type": "code",
   "execution_count": 59,
   "metadata": {
    "scrolled": true
   },
   "outputs": [
    {
     "data": {
      "image/png": "[encoded data removed]",
      "text/plain": [
       "<Figure size 432x288 with 1 Axes>"
      ]
     },
     "metadata": {
      "needs_background": "light"
     },
     "output_type": "display_data"
    },
    {
     "data": {
      "image/png": "[encoded data removed]",
      "text/plain": [
       "<Figure size 432x288 with 1 Axes>"
      ]
     },
     "metadata": {
      "needs_background": "light"
     },
     "output_type": "display_data"
    },
    {
     "data": {
      "image/png": "[encoded data removed]",
      "text/plain": [
       "<Figure size 432x288 with 1 Axes>"
      ]
     },
     "metadata": {
      "needs_background": "light"
     },
     "output_type": "display_data"
    }
   ],
   "source": [
    "#For non-categorical headers, we can do a boxplot\n",
    "bxplot = sn.boxplot(y=X_train['tenure'],x=Y_train,data=df)\n",
    "plt.show()\n",
    "\n",
    "bxplot = sn.boxplot(y=X_train['MonthlyCharges'],x=Y_train,data=df)\n",
    "plt.show()\n",
    "\n",
    "bxplot = sn.boxplot(y=X_train['TotalCharges'],x=Y_train,data=df)\n",
    "plt.show()\n"
   ]
  },
  {
   "cell_type": "code",
   "execution_count": 60,
   "metadata": {},
   "outputs": [
    {
     "name": "stdout",
     "output_type": "stream",
     "text": [
      "There is about 72.71% non-churn customers and 27.29% percentage churn customers in this dataset.\n"
     ]
    }
   ],
   "source": [
    "#Is the dataset balanced?\n",
    "Y_train.columns = ['Index','Churn']\n",
    "length = len(Y_train)\n",
    "yes_count = 0\n",
    "for i in Y_train:\n",
    "    if i == 'Yes':\n",
    "        yes_count += 1\n",
    "\n",
    "churn_percentage = yes_count/length\n",
    "non_churn_percentage = 1- churn_percentage\n",
    "\n",
    "print(\"There is about %.2f%% non-churn customers and %.2f%% percentage churn customers in this dataset.\" %(non_churn_percentage*100, churn_percentage*100))"
   ]
  },
  {
   "cell_type": "markdown",
   "metadata": {},
   "source": [
    "### Some preliminary ideas about each independent variable on churn-rate:\n",
    " - Gender doesnt seem to play a huge role\n",
    " - If you dont have a partner you might be more likely to churn\n",
    " - If you have no dependents you might be more likely to churn\n",
    " - Most of the churn customers come from those with phone service\n",
    " - For customers with internet service it seems those with fiber optics have a higher churn rate\n",
    " - Those likely to churn have no online backup and no device protection and no tech support\n",
    " - Customers on a month-to-month contract have a higher likelihood of churning\n",
    " - And those who pay by electronic check seem to have a higher likelihood of churning\n",
    " - Customers who churn have a significantly lower tenure with the company\n",
    " - Customers who churn might have a higher range of monthly charges, and there are a lot of outliers where their total charges are very high\n"
   ]
  },
  {
   "cell_type": "markdown",
   "metadata": {},
   "source": [
    "## Preprocessing the Data"
   ]
  },
  {
   "cell_type": "code",
   "execution_count": 3,
   "metadata": {},
   "outputs": [
    {
     "name": "stderr",
     "output_type": "stream",
     "text": [
      "C:\\Users\\phion\\Anaconda3\\lib\\site-packages\\ipykernel_launcher.py:6: SettingWithCopyWarning: \n",
      "A value is trying to be set on a copy of a slice from a DataFrame.\n",
      "Try using .loc[row_indexer,col_indexer] = value instead\n",
      "\n",
      "See the caveats in the documentation: http://pandas.pydata.org/pandas-docs/stable/indexing.html#indexing-view-versus-copy\n",
      "  \n",
      "C:\\Users\\phion\\Anaconda3\\lib\\site-packages\\ipykernel_launcher.py:7: SettingWithCopyWarning: \n",
      "A value is trying to be set on a copy of a slice from a DataFrame.\n",
      "Try using .loc[row_indexer,col_indexer] = value instead\n",
      "\n",
      "See the caveats in the documentation: http://pandas.pydata.org/pandas-docs/stable/indexing.html#indexing-view-versus-copy\n",
      "  import sys\n"
     ]
    }
   ],
   "source": [
    "#Create dummy variables for all the categorical data \n",
    "\n",
    "variables = ['gender','Partner','Dependents','PhoneService','PaperlessBilling']\n",
    "\n",
    "for i in variables:\n",
    "    X_train[i] = pd.get_dummies(X_train[i],drop_first=True)\n",
    "    X_test[i] = pd.get_dummies(X_test[i],drop_first=True)\n",
    "\n",
    "\n",
    "multiple_variables = ['MultipleLines','InternetService','OnlineSecurity','OnlineBackup','DeviceProtection','TechSupport','StreamingTV','StreamingMovies','Contract','PaymentMethod']\n",
    "for var in multiple_variables:\n",
    "    cat_list='var'+'_'+ var\n",
    "    cat_list = pd.get_dummies(X_train[var],drop_first= True,prefix=var)\n",
    "    cat_list_test = pd.get_dummies(X_test[var],drop_first=True,prefix=var)\n",
    "    new_data = X_train.join(cat_list,lsuffix='_left')\n",
    "    new_data_test = X_test.join(cat_list_test,lsuffix='_left')\n",
    "    X_train = new_data\n",
    "    X_test = new_data_test\n"
   ]
  },
  {
   "cell_type": "code",
   "execution_count": 4,
   "metadata": {},
   "outputs": [],
   "source": [
    "data_vars=X_train.columns.values.tolist()\n",
    "to_keep=[i for i in data_vars if i not in multiple_variables]\n",
    "X_train_final=X_train[to_keep]\n",
    "X_test_final = X_test[to_keep]\n",
    "\n",
    "column_names = X_train_final.columns"
   ]
  },
  {
   "cell_type": "code",
   "execution_count": 5,
   "metadata": {},
   "outputs": [],
   "source": [
    "Y_train = pd.get_dummies(Y_train,drop_first=True)\n",
    "Y_test = pd.get_dummies(Y_test,drop_first=True)\n",
    "Y_train.columns = ['Churn']\n",
    "Y_test.columns = ['Churn']"
   ]
  },
  {
   "cell_type": "code",
   "execution_count": 6,
   "metadata": {},
   "outputs": [],
   "source": [
    "#Now all categorical variables have been taken care of. Let's do some scaling for the variables of tenure, monthly charges and total charges\n",
    "\n",
    "from sklearn.preprocessing import MinMaxScaler\n",
    "scaler = MinMaxScaler()\n",
    "X_train_scaled = scaler.fit_transform(X_train_final)\n",
    "\n",
    "# we must apply the scaling to the test set that we computed for the training set\n",
    "X_test_scaled = scaler.transform(X_test_final)\n",
    "\n",
    "X_train_scaled = pd.DataFrame(X_train_scaled, columns = column_names)\n",
    "X_test_scaled = pd.DataFrame(X_test_scaled, columns = column_names)\n"
   ]
  },
  {
   "cell_type": "markdown",
   "metadata": {},
   "source": [
    "## Question 2 - Logistic Regression"
   ]
  },
  {
   "cell_type": "code",
   "execution_count": 65,
   "metadata": {},
   "outputs": [
    {
     "name": "stdout",
     "output_type": "stream",
     "text": [
      "gender      -0.05967\n",
      "SeniorCitizen      0.17719\n",
      "Partner      0.00551\n",
      "Dependents      -0.14797\n",
      "tenure      -3.18325\n",
      "PhoneService      -0.27033\n",
      "PaperlessBilling      0.14752\n",
      "MonthlyCharges      0.01253\n",
      "TotalCharges      1.44768\n",
      "MultipleLines_No phone service      0.20211\n",
      "MultipleLines_Yes      0.15820\n",
      "InternetService_Fiber optic      0.85594\n",
      "InternetService_No      -0.12838\n",
      "OnlineSecurity_No internet service      -0.12838\n",
      "OnlineSecurity_Yes      -0.40794\n",
      "OnlineBackup_No internet service      -0.12838\n",
      "OnlineBackup_Yes      -0.11574\n",
      "DeviceProtection_No internet service      -0.12838\n",
      "DeviceProtection_Yes      -0.06668\n",
      "TechSupport_No internet service      -0.12838\n",
      "TechSupport_Yes      -0.47248\n",
      "StreamingTV_No internet service      -0.12838\n",
      "StreamingTV_Yes      0.21135\n",
      "StreamingMovies_No internet service      -0.12838\n",
      "StreamingMovies_Yes      0.24646\n",
      "Contract_One year      -0.76748\n",
      "Contract_Two year      -1.46478\n",
      "PaymentMethod_Credit card (automatic)      -0.13056\n",
      "PaymentMethod_Electronic check      0.20874\n",
      "PaymentMethod_Mailed check      -0.06289\n"
     ]
    },
    {
     "name": "stderr",
     "output_type": "stream",
     "text": [
      "C:\\Users\\phion\\Anaconda3\\lib\\site-packages\\sklearn\\linear_model\\logistic.py:432: FutureWarning: Default solver will be changed to 'lbfgs' in 0.22. Specify a solver to silence this warning.\n",
      "  FutureWarning)\n",
      "C:\\Users\\phion\\Anaconda3\\lib\\site-packages\\sklearn\\utils\\validation.py:724: DataConversionWarning: A column-vector y was passed when a 1d array was expected. Please change the shape of y to (n_samples, ), for example using ravel().\n",
      "  y = column_or_1d(y, warn=True)\n"
     ]
    }
   ],
   "source": [
    "from sklearn.linear_model import LogisticRegression\n",
    "\n",
    "clf = LogisticRegression(C=1).fit(X_train_scaled,Y_train)\n",
    "\n",
    "index = 0\n",
    "for i in clf.coef_[0]:\n",
    "    print(\"%s      %.5f\" %(column_names[index],i))\n",
    "    index += 1"
   ]
  },
  {
   "cell_type": "code",
   "execution_count": 66,
   "metadata": {},
   "outputs": [
    {
     "name": "stdout",
     "output_type": "stream",
     "text": [
      "Accuracy of Logistic regression classifier on training set: 0.80110\n",
      "Accuracy of Logistic regression classifier on test set: 0.80000\n"
     ]
    }
   ],
   "source": [
    "print('Accuracy of Logistic regression classifier on training set: {:.5f}'\n",
    "     .format(clf.score(X_train_scaled, Y_train)))\n",
    "\n",
    "print('Accuracy of Logistic regression classifier on test set: {:.5f}'\n",
    "     .format(clf.score(X_test_scaled, Y_test)))"
   ]
  },
  {
   "cell_type": "markdown",
   "metadata": {},
   "source": [
    "Based on this preliminary model, we can see that some of the most important variables are tenure, total charges, contracts, and perhaps internet service. Let's create a separate model with just these independent variables. We can run a basic RFE analysis to select the most important features, along with our intuition."
   ]
  },
  {
   "cell_type": "code",
   "execution_count": 67,
   "metadata": {},
   "outputs": [
    {
     "name": "stdout",
     "output_type": "stream",
     "text": [
      "gender  False  21\n",
      "SeniorCitizen  False  9\n",
      "Partner  False  23\n",
      "Dependents  False  13\n",
      "tenure  True  1\n",
      "PhoneService  False  10\n",
      "PaperlessBilling  False  15\n",
      "MonthlyCharges  False  22\n",
      "TotalCharges  True  1\n",
      "MultipleLines_No phone service  True  1\n",
      "MultipleLines_Yes  False  12\n",
      "InternetService_Fiber optic  True  1\n",
      "InternetService_No  False  7\n",
      "OnlineSecurity_No internet service  False  5\n",
      "OnlineSecurity_Yes  False  3\n",
      "OnlineBackup_No internet service  False  2\n",
      "OnlineBackup_Yes  False  17\n",
      "DeviceProtection_No internet service  True  1\n",
      "DeviceProtection_Yes  False  20\n",
      "TechSupport_No internet service  False  11\n",
      "TechSupport_Yes  True  1\n",
      "StreamingTV_No internet service  False  14\n",
      "StreamingTV_Yes  False  8\n",
      "StreamingMovies_No internet service  False  16\n",
      "StreamingMovies_Yes  False  4\n",
      "Contract_One year  True  1\n",
      "Contract_Two year  True  1\n",
      "PaymentMethod_Credit card (automatic)  False  18\n",
      "PaymentMethod_Electronic check  False  6\n",
      "PaymentMethod_Mailed check  False  19\n"
     ]
    }
   ],
   "source": [
    "from sklearn.feature_selection import RFE\n",
    "from sklearn.linear_model import LogisticRegression\n",
    "\n",
    "logreg = LogisticRegression(solver='lbfgs')\n",
    "rfe = RFE(logreg, 8)\n",
    "rfe = rfe.fit(X_train_scaled, Y_train.values.ravel())\n",
    "\n",
    "index = 0\n",
    "for i in column_names:\n",
    "    print(\"%s  %s  %s\" %(i,rfe.support_[index],rfe.ranking_[index] ))\n",
    "    index += 1"
   ]
  },
  {
   "cell_type": "code",
   "execution_count": 68,
   "metadata": {},
   "outputs": [],
   "source": [
    "#Lets take the most important 8 features that RFE identified and put a model from it\n",
    "\n",
    "X_train_impt = X_train_scaled[['tenure','PaperlessBilling','TotalCharges','DeviceProtection_No internet service', 'TechSupport_No internet service','Contract_One year','Contract_Two year', 'InternetService_Fiber optic','PaymentMethod_Electronic check']]\n",
    "X_test_impt = X_test_scaled[['tenure','PaperlessBilling','TotalCharges','DeviceProtection_No internet service', 'TechSupport_No internet service','Contract_One year','Contract_Two year', 'InternetService_Fiber optic','PaymentMethod_Electronic check']]"
   ]
  },
  {
   "cell_type": "code",
   "execution_count": 69,
   "metadata": {},
   "outputs": [
    {
     "name": "stdout",
     "output_type": "stream",
     "text": [
      "tenure      -4.12185\n",
      "PaperlessBilling      0.21132\n",
      "TotalCharges      2.70007\n",
      "DeviceProtection_No internet service      -0.40939\n",
      "TechSupport_No internet service      -0.40939\n",
      "Contract_One year      -0.87324\n",
      "Contract_Two year      -1.75739\n",
      "InternetService_Fiber optic      0.87866\n",
      "PaymentMethod_Electronic check      0.39441\n"
     ]
    },
    {
     "name": "stderr",
     "output_type": "stream",
     "text": [
      "C:\\Users\\phion\\Anaconda3\\lib\\site-packages\\sklearn\\linear_model\\logistic.py:432: FutureWarning: Default solver will be changed to 'lbfgs' in 0.22. Specify a solver to silence this warning.\n",
      "  FutureWarning)\n",
      "C:\\Users\\phion\\Anaconda3\\lib\\site-packages\\sklearn\\utils\\validation.py:724: DataConversionWarning: A column-vector y was passed when a 1d array was expected. Please change the shape of y to (n_samples, ), for example using ravel().\n",
      "  y = column_or_1d(y, warn=True)\n"
     ]
    }
   ],
   "source": [
    "clf_2 = LogisticRegression(C=100).fit(X_train_impt,Y_train)\n",
    "\n",
    "index = 0\n",
    "for i in clf_2.coef_[0]:\n",
    "    print(\"%s      %.5f\" %(X_train_impt.columns[index],i))\n",
    "    index += 1"
   ]
  },
  {
   "cell_type": "code",
   "execution_count": 70,
   "metadata": {},
   "outputs": [
    {
     "name": "stdout",
     "output_type": "stream",
     "text": [
      "Accuracy of Logistic regression classifier on training set: 0.79581\n",
      "Accuracy of Logistic regression classifier on test set: 0.80474\n"
     ]
    }
   ],
   "source": [
    "print('Accuracy of Logistic regression classifier on training set: {:.5f}'\n",
    "     .format(clf_2.score(X_train_impt, Y_train)))\n",
    "\n",
    "print('Accuracy of Logistic regression classifier on test set: {:.5f}'\n",
    "     .format(clf_2.score(X_test_impt, Y_test)))"
   ]
  },
  {
   "cell_type": "markdown",
   "metadata": {},
   "source": [
    "The accuracy on the test set has increased only slightly. Lets play around with the c-value."
   ]
  },
  {
   "cell_type": "code",
   "execution_count": 74,
   "metadata": {},
   "outputs": [
    {
     "name": "stdout",
     "output_type": "stream",
     "text": [
      "Accuracy of Logistic regression classifier on training set for C=0.01: 0.78850\n",
      "Accuracy of Logistic regression classifier on test set for C=0.01: 0.80000\n",
      "Accuracy of Logistic regression classifier on training set for C=0.10: 0.79134\n",
      "Accuracy of Logistic regression classifier on test set for C=0.10: 0.79953\n",
      "Accuracy of Logistic regression classifier on training set for C=1.00: 0.79500\n",
      "Accuracy of Logistic regression classifier on test set for C=1.00: 0.80427\n",
      "Accuracy of Logistic regression classifier on training set for C=10.00: 0.79602\n",
      "Accuracy of Logistic regression classifier on test set for C=10.00: 0.80521\n",
      "Accuracy of Logistic regression classifier on training set for C=100.00: 0.79581\n",
      "Accuracy of Logistic regression classifier on test set for C=100.00: 0.80474\n",
      "Accuracy of Logistic regression classifier on training set for C=1000.00: 0.79581\n",
      "Accuracy of Logistic regression classifier on test set for C=1000.00: 0.80474\n"
     ]
    },
    {
     "name": "stderr",
     "output_type": "stream",
     "text": [
      "C:\\Users\\phion\\Anaconda3\\lib\\site-packages\\sklearn\\linear_model\\logistic.py:432: FutureWarning: Default solver will be changed to 'lbfgs' in 0.22. Specify a solver to silence this warning.\n",
      "  FutureWarning)\n",
      "C:\\Users\\phion\\Anaconda3\\lib\\site-packages\\sklearn\\utils\\validation.py:724: DataConversionWarning: A column-vector y was passed when a 1d array was expected. Please change the shape of y to (n_samples, ), for example using ravel().\n",
      "  y = column_or_1d(y, warn=True)\n",
      "C:\\Users\\phion\\Anaconda3\\lib\\site-packages\\sklearn\\linear_model\\logistic.py:432: FutureWarning: Default solver will be changed to 'lbfgs' in 0.22. Specify a solver to silence this warning.\n",
      "  FutureWarning)\n",
      "C:\\Users\\phion\\Anaconda3\\lib\\site-packages\\sklearn\\utils\\validation.py:724: DataConversionWarning: A column-vector y was passed when a 1d array was expected. Please change the shape of y to (n_samples, ), for example using ravel().\n",
      "  y = column_or_1d(y, warn=True)\n",
      "C:\\Users\\phion\\Anaconda3\\lib\\site-packages\\sklearn\\linear_model\\logistic.py:432: FutureWarning: Default solver will be changed to 'lbfgs' in 0.22. Specify a solver to silence this warning.\n",
      "  FutureWarning)\n",
      "C:\\Users\\phion\\Anaconda3\\lib\\site-packages\\sklearn\\utils\\validation.py:724: DataConversionWarning: A column-vector y was passed when a 1d array was expected. Please change the shape of y to (n_samples, ), for example using ravel().\n",
      "  y = column_or_1d(y, warn=True)\n",
      "C:\\Users\\phion\\Anaconda3\\lib\\site-packages\\sklearn\\linear_model\\logistic.py:432: FutureWarning: Default solver will be changed to 'lbfgs' in 0.22. Specify a solver to silence this warning.\n",
      "  FutureWarning)\n",
      "C:\\Users\\phion\\Anaconda3\\lib\\site-packages\\sklearn\\utils\\validation.py:724: DataConversionWarning: A column-vector y was passed when a 1d array was expected. Please change the shape of y to (n_samples, ), for example using ravel().\n",
      "  y = column_or_1d(y, warn=True)\n",
      "C:\\Users\\phion\\Anaconda3\\lib\\site-packages\\sklearn\\linear_model\\logistic.py:432: FutureWarning: Default solver will be changed to 'lbfgs' in 0.22. Specify a solver to silence this warning.\n",
      "  FutureWarning)\n",
      "C:\\Users\\phion\\Anaconda3\\lib\\site-packages\\sklearn\\utils\\validation.py:724: DataConversionWarning: A column-vector y was passed when a 1d array was expected. Please change the shape of y to (n_samples, ), for example using ravel().\n",
      "  y = column_or_1d(y, warn=True)\n",
      "C:\\Users\\phion\\Anaconda3\\lib\\site-packages\\sklearn\\linear_model\\logistic.py:432: FutureWarning: Default solver will be changed to 'lbfgs' in 0.22. Specify a solver to silence this warning.\n",
      "  FutureWarning)\n",
      "C:\\Users\\phion\\Anaconda3\\lib\\site-packages\\sklearn\\utils\\validation.py:724: DataConversionWarning: A column-vector y was passed when a 1d array was expected. Please change the shape of y to (n_samples, ), for example using ravel().\n",
      "  y = column_or_1d(y, warn=True)\n"
     ]
    }
   ],
   "source": [
    "list_of_c = [0.01,0.1,1,10,100,1000]\n",
    "\n",
    "for c in list_of_c:\n",
    "    clf_3 = LogisticRegression(C=c).fit(X_train_impt,Y_train)\n",
    "    print('Accuracy of Logistic regression classifier on training set for C={:.2f}: {:.5f}'\n",
    "         .format(c,clf_3.score(X_train_impt, Y_train)))\n",
    "\n",
    "    print('Accuracy of Logistic regression classifier on test set for C={:.2f}: {:.5f}'\n",
    "         .format(c,clf_3.score(X_test_impt, Y_test)))"
   ]
  },
  {
   "cell_type": "markdown",
   "metadata": {},
   "source": [
    "It looks like C=10 gives the most accurate value for this set of X. "
   ]
  },
  {
   "cell_type": "code",
   "execution_count": 75,
   "metadata": {},
   "outputs": [
    {
     "name": "stderr",
     "output_type": "stream",
     "text": [
      "C:\\Users\\phion\\Anaconda3\\lib\\site-packages\\sklearn\\linear_model\\logistic.py:432: FutureWarning: Default solver will be changed to 'lbfgs' in 0.22. Specify a solver to silence this warning.\n",
      "  FutureWarning)\n",
      "C:\\Users\\phion\\Anaconda3\\lib\\site-packages\\sklearn\\utils\\validation.py:724: DataConversionWarning: A column-vector y was passed when a 1d array was expected. Please change the shape of y to (n_samples, ), for example using ravel().\n",
      "  y = column_or_1d(y, warn=True)\n"
     ]
    }
   ],
   "source": [
    "clf_4 = LogisticRegression(C=10).fit(X_train_impt,Y_train)"
   ]
  },
  {
   "cell_type": "code",
   "execution_count": 76,
   "metadata": {},
   "outputs": [
    {
     "name": "stdout",
     "output_type": "stream",
     "text": [
      "Accuracy of Logistic regression classifier on training set: 0.79602\n",
      "Accuracy of Logistic regression classifier on test set: 0.80521\n"
     ]
    },
    {
     "data": {
      "text/plain": [
       "array([[1412,  172],\n",
       "       [ 239,  287]], dtype=int64)"
      ]
     },
     "execution_count": 76,
     "metadata": {},
     "output_type": "execute_result"
    }
   ],
   "source": [
    "#Evaluation of the current model\n",
    "\n",
    "print('Accuracy of Logistic regression classifier on training set: {:.5f}'\n",
    "     .format(clf_4.score(X_train_impt, Y_train)))\n",
    "\n",
    "print('Accuracy of Logistic regression classifier on test set: {:.5f}'\n",
    "     .format(clf_4.score(X_test_impt, Y_test)))\n",
    "\n",
    "from sklearn.metrics import confusion_matrix\n",
    "from sklearn.metrics import classification_report\n",
    "confusion_matrix = confusion_matrix(Y_test, clf_4.predict(X_test_impt))\n",
    "confusion_matrix"
   ]
  },
  {
   "cell_type": "code",
   "execution_count": 77,
   "metadata": {},
   "outputs": [
    {
     "name": "stdout",
     "output_type": "stream",
     "text": [
      "              precision    recall  f1-score   support\n",
      "\n",
      "           0       0.86      0.89      0.87      1584\n",
      "           1       0.63      0.55      0.58       526\n",
      "\n",
      "    accuracy                           0.81      2110\n",
      "   macro avg       0.74      0.72      0.73      2110\n",
      "weighted avg       0.80      0.81      0.80      2110\n",
      "\n"
     ]
    }
   ],
   "source": [
    "print(classification_report(Y_test, clf_4.predict(X_test_impt)))"
   ]
  },
  {
   "cell_type": "code",
   "execution_count": 78,
   "metadata": {},
   "outputs": [
    {
     "data": {
      "image/png": "[encoded data removed]",
      "text/plain": [
       "<Figure size 432x288 with 1 Axes>"
      ]
     },
     "metadata": {
      "needs_background": "light"
     },
     "output_type": "display_data"
    }
   ],
   "source": [
    "#ROC Curve\n",
    "\n",
    "from sklearn.metrics import roc_auc_score\n",
    "from sklearn.metrics import roc_curve\n",
    "\n",
    "def plot_roc_curve(predict1,predict2):\n",
    "    logit_roc_auc = roc_auc_score(Y_test, predict1)\n",
    "    fpr, tpr, thresholds = roc_curve(Y_test, predict2)\n",
    "    plt.figure()\n",
    "    plt.plot(fpr, tpr, label='Area = %0.3f' % logit_roc_auc)\n",
    "    plt.plot([0, 1], [0, 1],'r--')\n",
    "    plt.xlim([0.0, 1.0])\n",
    "    plt.ylim([0.0, 1.05])\n",
    "    plt.xlabel('False Positive Rate')\n",
    "    plt.ylabel('True Positive Rate')\n",
    "    plt.title('Receiver operating characteristic')\n",
    "    plt.legend(loc=\"lower right\")\n",
    "    plt.savefig('Log_ROC')\n",
    "    plt.show()\n",
    "    \n",
    "\n",
    "plot_roc_curve(clf_4.predict(X_test_impt),clf_4.predict_proba(X_test_impt)[:,1])"
   ]
  },
  {
   "cell_type": "code",
   "execution_count": 1,
   "metadata": {},
   "outputs": [],
   "source": []
  },
  {
   "cell_type": "code",
   "execution_count": null,
   "metadata": {},
   "outputs": [],
   "source": [
    "f1_score(y_test)"
   ]
  },
  {
   "cell_type": "code",
   "execution_count": 79,
   "metadata": {},
   "outputs": [
    {
     "data": {
      "image/png": "[encoded data removed]",
      "text/plain": [
       "<Figure size 432x288 with 1 Axes>"
      ]
     },
     "metadata": {
      "needs_background": "light"
     },
     "output_type": "display_data"
    }
   ],
   "source": [
    "#Lets plot the same graph for our preliminary model to compare the results\n",
    "\n",
    "plot_roc_curve(clf.predict(X_test_scaled),clf.predict_proba(X_test_scaled)[:,1])"
   ]
  },
  {
   "cell_type": "markdown",
   "metadata": {},
   "source": [
    "It seems for the AUC, the first model which included only the 8 important variables performed better. Hence we choose that model over the model that included all the variables. "
   ]
  },
  {
   "cell_type": "markdown",
   "metadata": {},
   "source": [
    "## Question 3 - SVC Models\n"
   ]
  },
  {
   "cell_type": "code",
   "execution_count": 80,
   "metadata": {},
   "outputs": [
    {
     "name": "stderr",
     "output_type": "stream",
     "text": [
      "C:\\Users\\phion\\Anaconda3\\lib\\site-packages\\sklearn\\utils\\validation.py:724: DataConversionWarning: A column-vector y was passed when a 1d array was expected. Please change the shape of y to (n_samples, ), for example using ravel().\n",
      "  y = column_or_1d(y, warn=True)\n"
     ]
    },
    {
     "name": "stdout",
     "output_type": "stream",
     "text": [
      "Accuracy of SVC Model on training set for C=0.01: 0.79785\n",
      "Accuracy of SVC Model on test set for C=0.01: 0.79668\n"
     ]
    },
    {
     "name": "stderr",
     "output_type": "stream",
     "text": [
      "C:\\Users\\phion\\Anaconda3\\lib\\site-packages\\sklearn\\utils\\validation.py:724: DataConversionWarning: A column-vector y was passed when a 1d array was expected. Please change the shape of y to (n_samples, ), for example using ravel().\n",
      "  y = column_or_1d(y, warn=True)\n"
     ]
    },
    {
     "name": "stdout",
     "output_type": "stream",
     "text": [
      "Accuracy of SVC Model on training set for C=0.10: 0.79846\n",
      "Accuracy of SVC Model on test set for C=0.10: 0.80190\n"
     ]
    },
    {
     "name": "stderr",
     "output_type": "stream",
     "text": [
      "C:\\Users\\phion\\Anaconda3\\lib\\site-packages\\sklearn\\utils\\validation.py:724: DataConversionWarning: A column-vector y was passed when a 1d array was expected. Please change the shape of y to (n_samples, ), for example using ravel().\n",
      "  y = column_or_1d(y, warn=True)\n"
     ]
    },
    {
     "name": "stdout",
     "output_type": "stream",
     "text": [
      "Accuracy of SVC Model on training set for C=1.00: 0.79886\n",
      "Accuracy of SVC Model on test set for C=1.00: 0.80379\n"
     ]
    },
    {
     "name": "stderr",
     "output_type": "stream",
     "text": [
      "C:\\Users\\phion\\Anaconda3\\lib\\site-packages\\sklearn\\utils\\validation.py:724: DataConversionWarning: A column-vector y was passed when a 1d array was expected. Please change the shape of y to (n_samples, ), for example using ravel().\n",
      "  y = column_or_1d(y, warn=True)\n"
     ]
    },
    {
     "name": "stdout",
     "output_type": "stream",
     "text": [
      "Accuracy of SVC Model on training set for C=10.00: 0.79744\n",
      "Accuracy of SVC Model on test set for C=10.00: 0.80379\n"
     ]
    },
    {
     "name": "stderr",
     "output_type": "stream",
     "text": [
      "C:\\Users\\phion\\Anaconda3\\lib\\site-packages\\sklearn\\utils\\validation.py:724: DataConversionWarning: A column-vector y was passed when a 1d array was expected. Please change the shape of y to (n_samples, ), for example using ravel().\n",
      "  y = column_or_1d(y, warn=True)\n"
     ]
    },
    {
     "name": "stdout",
     "output_type": "stream",
     "text": [
      "Accuracy of SVC Model on training set for C=100.00: 0.79724\n",
      "Accuracy of SVC Model on test set for C=100.00: 0.80332\n"
     ]
    }
   ],
   "source": [
    "from sklearn.svm import SVC\n",
    "\n",
    "#First, we use linear SVC models and vary the level of C, and check their accuracy\n",
    "\n",
    "list_of_C = [0.01,0.1,1,10,100]\n",
    "\n",
    "for i in list_of_C:\n",
    "    svc_1 = SVC(kernel = 'linear', C=i).fit(X_train_scaled, Y_train)\n",
    "    print('Accuracy of SVC Model on training set for C={:.2f}: {:.5f}'.format(i,svc_1.score(X_train_scaled, Y_train)))\n",
    "    print('Accuracy of SVC Model on test set for C={:.2f}: {:.5f}'.format(i,svc_1.score(X_test_scaled, Y_test)))"
   ]
  },
  {
   "cell_type": "markdown",
   "metadata": {},
   "source": [
    "It seems from the above result that C = 1 yields the highest training and test score together. Lets look at the same linear kernel but with the data set with reduced number of X variables."
   ]
  },
  {
   "cell_type": "code",
   "execution_count": 81,
   "metadata": {},
   "outputs": [
    {
     "name": "stderr",
     "output_type": "stream",
     "text": [
      "C:\\Users\\phion\\Anaconda3\\lib\\site-packages\\sklearn\\utils\\validation.py:724: DataConversionWarning: A column-vector y was passed when a 1d array was expected. Please change the shape of y to (n_samples, ), for example using ravel().\n",
      "  y = column_or_1d(y, warn=True)\n"
     ]
    },
    {
     "name": "stdout",
     "output_type": "stream",
     "text": [
      "Accuracy of SVC Model on training set for C=0.01: 0.79074\n",
      "Accuracy of SVC Model on test set for C=0.01: 0.79763\n"
     ]
    },
    {
     "name": "stderr",
     "output_type": "stream",
     "text": [
      "C:\\Users\\phion\\Anaconda3\\lib\\site-packages\\sklearn\\utils\\validation.py:724: DataConversionWarning: A column-vector y was passed when a 1d array was expected. Please change the shape of y to (n_samples, ), for example using ravel().\n",
      "  y = column_or_1d(y, warn=True)\n"
     ]
    },
    {
     "name": "stdout",
     "output_type": "stream",
     "text": [
      "Accuracy of SVC Model on training set for C=0.10: 0.78444\n",
      "Accuracy of SVC Model on test set for C=0.10: 0.79479\n"
     ]
    },
    {
     "name": "stderr",
     "output_type": "stream",
     "text": [
      "C:\\Users\\phion\\Anaconda3\\lib\\site-packages\\sklearn\\utils\\validation.py:724: DataConversionWarning: A column-vector y was passed when a 1d array was expected. Please change the shape of y to (n_samples, ), for example using ravel().\n",
      "  y = column_or_1d(y, warn=True)\n"
     ]
    },
    {
     "name": "stdout",
     "output_type": "stream",
     "text": [
      "Accuracy of SVC Model on training set for C=1.00: 0.78261\n",
      "Accuracy of SVC Model on test set for C=1.00: 0.79573\n"
     ]
    },
    {
     "name": "stderr",
     "output_type": "stream",
     "text": [
      "C:\\Users\\phion\\Anaconda3\\lib\\site-packages\\sklearn\\utils\\validation.py:724: DataConversionWarning: A column-vector y was passed when a 1d array was expected. Please change the shape of y to (n_samples, ), for example using ravel().\n",
      "  y = column_or_1d(y, warn=True)\n"
     ]
    },
    {
     "name": "stdout",
     "output_type": "stream",
     "text": [
      "Accuracy of SVC Model on training set for C=10.00: 0.78241\n",
      "Accuracy of SVC Model on test set for C=10.00: 0.79526\n"
     ]
    },
    {
     "name": "stderr",
     "output_type": "stream",
     "text": [
      "C:\\Users\\phion\\Anaconda3\\lib\\site-packages\\sklearn\\utils\\validation.py:724: DataConversionWarning: A column-vector y was passed when a 1d array was expected. Please change the shape of y to (n_samples, ), for example using ravel().\n",
      "  y = column_or_1d(y, warn=True)\n"
     ]
    },
    {
     "name": "stdout",
     "output_type": "stream",
     "text": [
      "Accuracy of SVC Model on training set for C=100.00: 0.78302\n",
      "Accuracy of SVC Model on test set for C=100.00: 0.79479\n"
     ]
    }
   ],
   "source": [
    "for i in list_of_C:\n",
    "    svc_2 = SVC(kernel = 'linear', C=i).fit(X_train_impt, Y_train)\n",
    "    print('Accuracy of SVC Model on training set for C={:.2f}: {:.5f}'.format(i,svc_2.score(X_train_impt, Y_train)))\n",
    "    print('Accuracy of SVC Model on test set for C={:.2f}: {:.5f}'.format(i,svc_2.score(X_test_impt, Y_test)))"
   ]
  },
  {
   "cell_type": "markdown",
   "metadata": {},
   "source": [
    "On average, it doesnt seem to perform better, because there are less variables. "
   ]
  },
  {
   "cell_type": "code",
   "execution_count": 102,
   "metadata": {},
   "outputs": [
    {
     "name": "stderr",
     "output_type": "stream",
     "text": [
      "C:\\Users\\phion\\Anaconda3\\lib\\site-packages\\sklearn\\utils\\validation.py:724: DataConversionWarning: A column-vector y was passed when a 1d array was expected. Please change the shape of y to (n_samples, ), for example using ravel().\n",
      "  y = column_or_1d(y, warn=True)\n"
     ]
    },
    {
     "name": "stdout",
     "output_type": "stream",
     "text": [
      "[[1412  172]\n",
      " [ 242  284]]\n",
      "              precision    recall  f1-score   support\n",
      "\n",
      "           0       0.85      0.89      0.87      1584\n",
      "           1       0.62      0.54      0.58       526\n",
      "\n",
      "    accuracy                           0.80      2110\n",
      "   macro avg       0.74      0.72      0.73      2110\n",
      "weighted avg       0.80      0.80      0.80      2110\n",
      "\n"
     ]
    }
   ],
   "source": [
    "#Evaluation of linear model for C = 1 for data set with all X variables\n",
    "from sklearn.metrics import confusion_matrix\n",
    "from sklearn.metrics import classification_report\n",
    "\n",
    "svc_3 = SVC(kernel = 'linear', C=1).fit(X_train_scaled, Y_train)\n",
    "\n",
    "print(confusion_matrix(Y_test, svc_3.predict(X_test_scaled)))\n",
    "print(classification_report(Y_test,svc_3.predict(X_test_scaled)))"
   ]
  },
  {
   "cell_type": "code",
   "execution_count": 83,
   "metadata": {},
   "outputs": [
    {
     "name": "stderr",
     "output_type": "stream",
     "text": [
      "C:\\Users\\phion\\Anaconda3\\lib\\site-packages\\sklearn\\utils\\validation.py:724: DataConversionWarning: A column-vector y was passed when a 1d array was expected. Please change the shape of y to (n_samples, ), for example using ravel().\n",
      "  y = column_or_1d(y, warn=True)\n"
     ]
    },
    {
     "name": "stdout",
     "output_type": "stream",
     "text": [
      "Accuracy of SVC Model with RBF Kernel on training set for Gamma=0.010: 0.79581\n",
      "Accuracy of SVC Model on RBF Kernel test set for Gamma=0.010: 0.79763\n"
     ]
    },
    {
     "name": "stderr",
     "output_type": "stream",
     "text": [
      "C:\\Users\\phion\\Anaconda3\\lib\\site-packages\\sklearn\\utils\\validation.py:724: DataConversionWarning: A column-vector y was passed when a 1d array was expected. Please change the shape of y to (n_samples, ), for example using ravel().\n",
      "  y = column_or_1d(y, warn=True)\n"
     ]
    },
    {
     "name": "stdout",
     "output_type": "stream",
     "text": [
      "Accuracy of SVC Model with RBF Kernel on training set for Gamma=0.100: 0.80760\n",
      "Accuracy of SVC Model on RBF Kernel test set for Gamma=0.100: 0.80237\n"
     ]
    },
    {
     "name": "stderr",
     "output_type": "stream",
     "text": [
      "C:\\Users\\phion\\Anaconda3\\lib\\site-packages\\sklearn\\utils\\validation.py:724: DataConversionWarning: A column-vector y was passed when a 1d array was expected. Please change the shape of y to (n_samples, ), for example using ravel().\n",
      "  y = column_or_1d(y, warn=True)\n"
     ]
    },
    {
     "name": "stdout",
     "output_type": "stream",
     "text": [
      "Accuracy of SVC Model with RBF Kernel on training set for Gamma=1.000: 0.90837\n",
      "Accuracy of SVC Model on RBF Kernel test set for Gamma=1.000: 0.77346\n"
     ]
    },
    {
     "name": "stderr",
     "output_type": "stream",
     "text": [
      "C:\\Users\\phion\\Anaconda3\\lib\\site-packages\\sklearn\\utils\\validation.py:724: DataConversionWarning: A column-vector y was passed when a 1d array was expected. Please change the shape of y to (n_samples, ), for example using ravel().\n",
      "  y = column_or_1d(y, warn=True)\n"
     ]
    },
    {
     "name": "stdout",
     "output_type": "stream",
     "text": [
      "Accuracy of SVC Model with RBF Kernel on training set for Gamma=10.000: 0.94494\n",
      "Accuracy of SVC Model on RBF Kernel test set for Gamma=10.000: 0.76730\n"
     ]
    }
   ],
   "source": [
    "#Now lets try non-linear kernels\n",
    "\n",
    "list_of_gamma = [0.01,0.1,1,10]\n",
    "for i in list_of_gamma:\n",
    "    svc_4 = SVC(kernel='rbf',gamma=i).fit(X_train_scaled,Y_train)\n",
    "\n",
    "    print('Accuracy of SVC Model with RBF Kernel on training set for Gamma={:.3f}: {:.5f}'.format(i,svc_4.score(X_train_scaled, Y_train)))\n",
    "    print('Accuracy of SVC Model on RBF Kernel test set for Gamma={:.3f}: {:.5f}'.format(i,svc_4.score(X_test_scaled, Y_test)))"
   ]
  },
  {
   "cell_type": "markdown",
   "metadata": {},
   "source": [
    "It looks like gamma = 0.1 yields the best result. Anything higher than that seems to have the problem of overfitting. Now lets try the SVM model with a polynomial kernel. "
   ]
  },
  {
   "cell_type": "code",
   "execution_count": 84,
   "metadata": {},
   "outputs": [
    {
     "name": "stderr",
     "output_type": "stream",
     "text": [
      "C:\\Users\\phion\\Anaconda3\\lib\\site-packages\\sklearn\\utils\\validation.py:724: DataConversionWarning: A column-vector y was passed when a 1d array was expected. Please change the shape of y to (n_samples, ), for example using ravel().\n",
      "  y = column_or_1d(y, warn=True)\n"
     ]
    },
    {
     "name": "stdout",
     "output_type": "stream",
     "text": [
      "Accuracy of SVC Model with Poly Kernel on training set for Gamma=0.1, degree= 2: 0.80110\n",
      "Accuracy of SVC Model on Poly Kernel test set for Gamma=0.1, degree= 2: 0.79573\n"
     ]
    },
    {
     "name": "stderr",
     "output_type": "stream",
     "text": [
      "C:\\Users\\phion\\Anaconda3\\lib\\site-packages\\sklearn\\utils\\validation.py:724: DataConversionWarning: A column-vector y was passed when a 1d array was expected. Please change the shape of y to (n_samples, ), for example using ravel().\n",
      "  y = column_or_1d(y, warn=True)\n"
     ]
    },
    {
     "name": "stdout",
     "output_type": "stream",
     "text": [
      "Accuracy of SVC Model with Poly Kernel on training set for Gamma=0.1, degree= 3: 0.79967\n",
      "Accuracy of SVC Model on Poly Kernel test set for Gamma=0.1, degree= 3: 0.80000\n"
     ]
    },
    {
     "name": "stderr",
     "output_type": "stream",
     "text": [
      "C:\\Users\\phion\\Anaconda3\\lib\\site-packages\\sklearn\\utils\\validation.py:724: DataConversionWarning: A column-vector y was passed when a 1d array was expected. Please change the shape of y to (n_samples, ), for example using ravel().\n",
      "  y = column_or_1d(y, warn=True)\n"
     ]
    },
    {
     "name": "stdout",
     "output_type": "stream",
     "text": [
      "Accuracy of SVC Model with Poly Kernel on training set for Gamma=0.1, degree= 4: 0.79683\n",
      "Accuracy of SVC Model on Poly Kernel test set for Gamma=0.1, degree= 4: 0.79858\n"
     ]
    },
    {
     "name": "stderr",
     "output_type": "stream",
     "text": [
      "C:\\Users\\phion\\Anaconda3\\lib\\site-packages\\sklearn\\utils\\validation.py:724: DataConversionWarning: A column-vector y was passed when a 1d array was expected. Please change the shape of y to (n_samples, ), for example using ravel().\n",
      "  y = column_or_1d(y, warn=True)\n"
     ]
    },
    {
     "name": "stdout",
     "output_type": "stream",
     "text": [
      "Accuracy of SVC Model with Poly Kernel on training set for Gamma=0.1, degree= 5: 0.79622\n",
      "Accuracy of SVC Model on Poly Kernel test set for Gamma=0.1, degree= 5: 0.79573\n"
     ]
    },
    {
     "name": "stderr",
     "output_type": "stream",
     "text": [
      "C:\\Users\\phion\\Anaconda3\\lib\\site-packages\\sklearn\\utils\\validation.py:724: DataConversionWarning: A column-vector y was passed when a 1d array was expected. Please change the shape of y to (n_samples, ), for example using ravel().\n",
      "  y = column_or_1d(y, warn=True)\n"
     ]
    },
    {
     "name": "stdout",
     "output_type": "stream",
     "text": [
      "Accuracy of SVC Model with Poly Kernel on training set for Gamma=0.1, degree= 6: 0.79134\n",
      "Accuracy of SVC Model on Poly Kernel test set for Gamma=0.1, degree= 6: 0.79242\n"
     ]
    }
   ],
   "source": [
    "list_of_degrees = [2,3,4,5,6]\n",
    "\n",
    "for i in list_of_degrees:\n",
    "    svc_5 = SVC(kernel='poly',degree=i,gamma=0.1).fit(X_train_scaled,Y_train)\n",
    "    print('Accuracy of SVC Model with Poly Kernel on training set for Gamma=0.1, degree= {:1d}: {:.5f}'.format(i,svc_5.score(X_train_scaled, Y_train)))\n",
    "    print('Accuracy of SVC Model on Poly Kernel test set for Gamma=0.1, degree= {:1d}: {:.5f}'.format(i,svc_5.score(X_test_scaled, Y_test)))"
   ]
  },
  {
   "cell_type": "markdown",
   "metadata": {},
   "source": [
    "For SVM with poly kernel, the degree of 3 has the best accuracy on the test set. Overall, it seems like linear model, with C=1 yields the highest test accuracy. For that model, the recall rate is 54%, and the precision rate is 62%, and the overall score is 79.5%."
   ]
  },
  {
   "cell_type": "markdown",
   "metadata": {},
   "source": [
    "## Question 4: Decision Trees"
   ]
  },
  {
   "cell_type": "code",
   "execution_count": 7,
   "metadata": {},
   "outputs": [
    {
     "data": {
      "text/plain": [
       "DecisionTreeClassifier(class_weight=None, criterion='entropy', max_depth=5,\n",
       "                       max_features=8, max_leaf_nodes=None,\n",
       "                       min_impurity_decrease=0.0, min_impurity_split=None,\n",
       "                       min_samples_leaf=1, min_samples_split=2,\n",
       "                       min_weight_fraction_leaf=0.0, presort=False,\n",
       "                       random_state=None, splitter='best')"
      ]
     },
     "execution_count": 7,
     "metadata": {},
     "output_type": "execute_result"
    }
   ],
   "source": [
    "from sklearn.tree import DecisionTreeClassifier\n",
    "from sklearn import tree\n",
    "from sklearn import metrics\n",
    "\n",
    "tree_1 = DecisionTreeClassifier(max_depth=5,criterion='entropy',max_features=8)\n",
    "tree_1.fit(X_train_scaled,Y_train)"
   ]
  },
  {
   "cell_type": "code",
   "execution_count": 8,
   "metadata": {},
   "outputs": [
    {
     "name": "stdout",
     "output_type": "stream",
     "text": [
      "Accuracy for Decision Tree Training set: 0.77326\n",
      "Accuracy for Decision Tree Test set: 0.78673\n"
     ]
    }
   ],
   "source": [
    "print(\"Accuracy for Decision Tree Training set: %.5f\" %(tree_1.score(X_train_scaled,Y_train)))\n",
    "print(\"Accuracy for Decision Tree Test set: %.5f\" %(tree_1.score(X_test_scaled,Y_test)))"
   ]
  },
  {
   "cell_type": "code",
   "execution_count": 9,
   "metadata": {
    "scrolled": true
   },
   "outputs": [
    {
     "ename": "NameError",
     "evalue": "name 'confusion_matrix' is not defined",
     "output_type": "error",
     "traceback": [
      "\u001b[1;31m---------------------------------------------------------------------------\u001b[0m",
      "\u001b[1;31mNameError\u001b[0m                                 Traceback (most recent call last)",
      "\u001b[1;32m<ipython-input-9-2c967c035f1b>\u001b[0m in \u001b[0;36m<module>\u001b[1;34m\u001b[0m\n\u001b[1;32m----> 1\u001b[1;33m \u001b[0mprint\u001b[0m\u001b[1;33m(\u001b[0m\u001b[0mconfusion_matrix\u001b[0m\u001b[1;33m(\u001b[0m\u001b[0mY_test\u001b[0m\u001b[1;33m,\u001b[0m\u001b[0mtree_1\u001b[0m\u001b[1;33m.\u001b[0m\u001b[0mpredict\u001b[0m\u001b[1;33m(\u001b[0m\u001b[0mX_test_scaled\u001b[0m\u001b[1;33m)\u001b[0m\u001b[1;33m)\u001b[0m\u001b[1;33m)\u001b[0m\u001b[1;33m\u001b[0m\u001b[1;33m\u001b[0m\u001b[0m\n\u001b[0m\u001b[0;32m      2\u001b[0m \u001b[0mprint\u001b[0m\u001b[1;33m(\u001b[0m\u001b[0mclassification_report\u001b[0m\u001b[1;33m(\u001b[0m\u001b[0mY_test\u001b[0m\u001b[1;33m,\u001b[0m\u001b[0mtree_1\u001b[0m\u001b[1;33m.\u001b[0m\u001b[0mpredict\u001b[0m\u001b[1;33m(\u001b[0m\u001b[0mX_test_scaled\u001b[0m\u001b[1;33m)\u001b[0m\u001b[1;33m)\u001b[0m\u001b[1;33m)\u001b[0m\u001b[1;33m\u001b[0m\u001b[1;33m\u001b[0m\u001b[0m\n",
      "\u001b[1;31mNameError\u001b[0m: name 'confusion_matrix' is not defined"
     ]
    }
   ],
   "source": [
    "print(confusion_matrix(Y_test,tree_1.predict(X_test_scaled)))\n",
    "print(classification_report(Y_test,tree_1.predict(X_test_scaled)))"
   ]
  },
  {
   "cell_type": "markdown",
   "metadata": {},
   "source": [
    "Based on this preliminary model, we can vary the max depth and max features parameters to get a higher accuracy. "
   ]
  },
  {
   "cell_type": "code",
   "execution_count": 10,
   "metadata": {},
   "outputs": [
    {
     "name": "stdout",
     "output_type": "stream",
     "text": [
      "Accuracy for Decision Tree Training set, Max Depth: 3 Max Features: 8 : 0.75071\n",
      "Accuracy for Decision Tree Test set, Max Depth: 3 Max Features: 8 : 0.76114\n",
      "\n",
      "Accuracy for Decision Tree Training set, Max Depth: 3 Max Features: 10 : 0.75823\n",
      "Accuracy for Decision Tree Test set, Max Depth: 3 Max Features: 10 : 0.76209\n",
      "\n",
      "Accuracy for Decision Tree Training set, Max Depth: 3 Max Features: 12 : 0.79074\n",
      "Accuracy for Decision Tree Test set, Max Depth: 3 Max Features: 12 : 0.78531\n",
      "\n",
      "Accuracy for Decision Tree Training set, Max Depth: 3 Max Features: 14 : 0.78870\n",
      "Accuracy for Decision Tree Test set, Max Depth: 3 Max Features: 14 : 0.79289\n",
      "\n",
      "Accuracy for Decision Tree Training set, Max Depth: 3 Max Features: 16 : 0.78870\n",
      "Accuracy for Decision Tree Test set, Max Depth: 3 Max Features: 16 : 0.79289\n",
      "\n",
      "Accuracy for Decision Tree Training set, Max Depth: 3 Max Features: 18 : 0.76473\n",
      "Accuracy for Decision Tree Test set, Max Depth: 3 Max Features: 18 : 0.75592\n",
      "\n",
      "Accuracy for Decision Tree Training set, Max Depth: 3 Max Features: 20 : 0.74726\n",
      "Accuracy for Decision Tree Test set, Max Depth: 3 Max Features: 20 : 0.75261\n",
      "\n",
      "Accuracy for Decision Tree Training set, Max Depth: 4 Max Features: 8 : 0.79338\n",
      "Accuracy for Decision Tree Test set, Max Depth: 4 Max Features: 8 : 0.79479\n",
      "\n",
      "Accuracy for Decision Tree Training set, Max Depth: 4 Max Features: 10 : 0.79195\n",
      "Accuracy for Decision Tree Test set, Max Depth: 4 Max Features: 10 : 0.78531\n",
      "\n",
      "Accuracy for Decision Tree Training set, Max Depth: 4 Max Features: 12 : 0.79581\n",
      "Accuracy for Decision Tree Test set, Max Depth: 4 Max Features: 12 : 0.78673\n",
      "\n",
      "Accuracy for Decision Tree Training set, Max Depth: 4 Max Features: 14 : 0.78972\n",
      "Accuracy for Decision Tree Test set, Max Depth: 4 Max Features: 14 : 0.78199\n",
      "\n",
      "Accuracy for Decision Tree Training set, Max Depth: 4 Max Features: 16 : 0.79419\n",
      "Accuracy for Decision Tree Test set, Max Depth: 4 Max Features: 16 : 0.79621\n",
      "\n",
      "Accuracy for Decision Tree Training set, Max Depth: 4 Max Features: 18 : 0.78952\n",
      "Accuracy for Decision Tree Test set, Max Depth: 4 Max Features: 18 : 0.79384\n",
      "\n",
      "Accuracy for Decision Tree Training set, Max Depth: 4 Max Features: 20 : 0.78728\n",
      "Accuracy for Decision Tree Test set, Max Depth: 4 Max Features: 20 : 0.79668\n",
      "\n",
      "Accuracy for Decision Tree Training set, Max Depth: 5 Max Features: 8 : 0.79338\n",
      "Accuracy for Decision Tree Test set, Max Depth: 5 Max Features: 8 : 0.78910\n",
      "\n",
      "Accuracy for Decision Tree Training set, Max Depth: 5 Max Features: 10 : 0.79561\n",
      "Accuracy for Decision Tree Test set, Max Depth: 5 Max Features: 10 : 0.79716\n",
      "\n",
      "Accuracy for Decision Tree Training set, Max Depth: 5 Max Features: 12 : 0.79581\n",
      "Accuracy for Decision Tree Test set, Max Depth: 5 Max Features: 12 : 0.78673\n",
      "\n",
      "Accuracy for Decision Tree Training set, Max Depth: 5 Max Features: 14 : 0.79663\n",
      "Accuracy for Decision Tree Test set, Max Depth: 5 Max Features: 14 : 0.79810\n",
      "\n",
      "Accuracy for Decision Tree Training set, Max Depth: 5 Max Features: 16 : 0.79764\n",
      "Accuracy for Decision Tree Test set, Max Depth: 5 Max Features: 16 : 0.79100\n",
      "\n",
      "Accuracy for Decision Tree Training set, Max Depth: 5 Max Features: 18 : 0.79358\n",
      "Accuracy for Decision Tree Test set, Max Depth: 5 Max Features: 18 : 0.78673\n",
      "\n",
      "Accuracy for Decision Tree Training set, Max Depth: 5 Max Features: 20 : 0.79378\n",
      "Accuracy for Decision Tree Test set, Max Depth: 5 Max Features: 20 : 0.77915\n",
      "\n",
      "Accuracy for Decision Tree Training set, Max Depth: 6 Max Features: 8 : 0.79216\n",
      "Accuracy for Decision Tree Test set, Max Depth: 6 Max Features: 8 : 0.78294\n",
      "\n",
      "Accuracy for Decision Tree Training set, Max Depth: 6 Max Features: 10 : 0.80333\n",
      "Accuracy for Decision Tree Test set, Max Depth: 6 Max Features: 10 : 0.78863\n",
      "\n",
      "Accuracy for Decision Tree Training set, Max Depth: 6 Max Features: 12 : 0.80211\n",
      "Accuracy for Decision Tree Test set, Max Depth: 6 Max Features: 12 : 0.78863\n",
      "\n",
      "Accuracy for Decision Tree Training set, Max Depth: 6 Max Features: 14 : 0.80475\n",
      "Accuracy for Decision Tree Test set, Max Depth: 6 Max Features: 14 : 0.79242\n",
      "\n",
      "Accuracy for Decision Tree Training set, Max Depth: 6 Max Features: 16 : 0.80089\n",
      "Accuracy for Decision Tree Test set, Max Depth: 6 Max Features: 16 : 0.79147\n",
      "\n",
      "Accuracy for Decision Tree Training set, Max Depth: 6 Max Features: 18 : 0.80089\n",
      "Accuracy for Decision Tree Test set, Max Depth: 6 Max Features: 18 : 0.78957\n",
      "\n",
      "Accuracy for Decision Tree Training set, Max Depth: 6 Max Features: 20 : 0.79947\n",
      "Accuracy for Decision Tree Test set, Max Depth: 6 Max Features: 20 : 0.78578\n",
      "\n",
      "Accuracy for Decision Tree Training set, Max Depth: 7 Max Features: 8 : 0.79642\n",
      "Accuracy for Decision Tree Test set, Max Depth: 7 Max Features: 8 : 0.78578\n",
      "\n",
      "Accuracy for Decision Tree Training set, Max Depth: 7 Max Features: 10 : 0.81126\n",
      "Accuracy for Decision Tree Test set, Max Depth: 7 Max Features: 10 : 0.78863\n",
      "\n",
      "Accuracy for Decision Tree Training set, Max Depth: 7 Max Features: 12 : 0.81308\n",
      "Accuracy for Decision Tree Test set, Max Depth: 7 Max Features: 12 : 0.78199\n",
      "\n",
      "Accuracy for Decision Tree Training set, Max Depth: 7 Max Features: 14 : 0.81654\n",
      "Accuracy for Decision Tree Test set, Max Depth: 7 Max Features: 14 : 0.79858\n",
      "\n",
      "Accuracy for Decision Tree Training set, Max Depth: 7 Max Features: 16 : 0.81349\n",
      "Accuracy for Decision Tree Test set, Max Depth: 7 Max Features: 16 : 0.79147\n",
      "\n",
      "Accuracy for Decision Tree Training set, Max Depth: 7 Max Features: 18 : 0.80455\n",
      "Accuracy for Decision Tree Test set, Max Depth: 7 Max Features: 18 : 0.79052\n",
      "\n",
      "Accuracy for Decision Tree Training set, Max Depth: 7 Max Features: 20 : 0.80455\n",
      "Accuracy for Decision Tree Test set, Max Depth: 7 Max Features: 20 : 0.78199\n",
      "\n",
      "Accuracy for Decision Tree Training set, Max Depth: 8 Max Features: 8 : 0.81268\n",
      "Accuracy for Decision Tree Test set, Max Depth: 8 Max Features: 8 : 0.79005\n",
      "\n",
      "Accuracy for Decision Tree Training set, Max Depth: 8 Max Features: 10 : 0.82243\n",
      "Accuracy for Decision Tree Test set, Max Depth: 8 Max Features: 10 : 0.78578\n",
      "\n",
      "Accuracy for Decision Tree Training set, Max Depth: 8 Max Features: 12 : 0.81593\n",
      "Accuracy for Decision Tree Test set, Max Depth: 8 Max Features: 12 : 0.79431\n",
      "\n",
      "Accuracy for Decision Tree Training set, Max Depth: 8 Max Features: 14 : 0.82609\n",
      "Accuracy for Decision Tree Test set, Max Depth: 8 Max Features: 14 : 0.79336\n",
      "\n",
      "Accuracy for Decision Tree Training set, Max Depth: 8 Max Features: 16 : 0.82141\n",
      "Accuracy for Decision Tree Test set, Max Depth: 8 Max Features: 16 : 0.79005\n",
      "\n",
      "Accuracy for Decision Tree Training set, Max Depth: 8 Max Features: 18 : 0.81694\n",
      "Accuracy for Decision Tree Test set, Max Depth: 8 Max Features: 18 : 0.78768\n",
      "\n",
      "Accuracy for Decision Tree Training set, Max Depth: 8 Max Features: 20 : 0.81898\n",
      "Accuracy for Decision Tree Test set, Max Depth: 8 Max Features: 20 : 0.79100\n",
      "\n",
      "Accuracy for Decision Tree Training set, Max Depth: 9 Max Features: 8 : 0.82060\n",
      "Accuracy for Decision Tree Test set, Max Depth: 9 Max Features: 8 : 0.79336\n",
      "\n",
      "Accuracy for Decision Tree Training set, Max Depth: 9 Max Features: 10 : 0.82852\n",
      "Accuracy for Decision Tree Test set, Max Depth: 9 Max Features: 10 : 0.78720\n",
      "\n",
      "Accuracy for Decision Tree Training set, Max Depth: 9 Max Features: 12 : 0.83360\n",
      "Accuracy for Decision Tree Test set, Max Depth: 9 Max Features: 12 : 0.78057\n",
      "\n",
      "Accuracy for Decision Tree Training set, Max Depth: 9 Max Features: 14 : 0.84173\n",
      "Accuracy for Decision Tree Test set, Max Depth: 9 Max Features: 14 : 0.77536\n",
      "\n",
      "Accuracy for Decision Tree Training set, Max Depth: 9 Max Features: 16 : 0.83706\n",
      "Accuracy for Decision Tree Test set, Max Depth: 9 Max Features: 16 : 0.78009\n",
      "\n",
      "Accuracy for Decision Tree Training set, Max Depth: 9 Max Features: 18 : 0.82710\n",
      "Accuracy for Decision Tree Test set, Max Depth: 9 Max Features: 18 : 0.77251\n",
      "\n",
      "Accuracy for Decision Tree Training set, Max Depth: 9 Max Features: 20 : 0.82710\n",
      "Accuracy for Decision Tree Test set, Max Depth: 9 Max Features: 20 : 0.77630\n",
      "\n"
     ]
    }
   ],
   "source": [
    "list_of_max_depth = [3,4,5,6,7,8,9]\n",
    "list_of_max_features = [8,10,12,14,16,18,20]\n",
    "\n",
    "for i in list_of_max_depth:\n",
    "    for j in list_of_max_features:\n",
    "        tree_2 = DecisionTreeClassifier(max_depth=i,criterion='entropy',max_features=j,random_state=0)\n",
    "        tree_2.fit(X_train_scaled,Y_train)\n",
    "        print(\"Accuracy for Decision Tree Training set, Max Depth: %i Max Features: %i : %.5f\" %(i,j,tree_2.score(X_train_scaled,Y_train)))\n",
    "        print(\"Accuracy for Decision Tree Test set, Max Depth: %i Max Features: %i : %.5f\" %(i,j,tree_2.score(X_test_scaled,Y_test)))\n",
    "        print(\"\")\n"
   ]
  },
  {
   "cell_type": "code",
   "execution_count": 11,
   "metadata": {},
   "outputs": [
    {
     "data": {
      "text/plain": [
       "array([0.00820681, 0.00444842, 0.00839529, 0.00788422, 0.10106177,\n",
       "       0.00505476, 0.01053059, 0.12494953, 0.18881396, 0.        ,\n",
       "       0.00671332, 0.12418175, 0.        , 0.        , 0.0095301 ,\n",
       "       0.        , 0.01098232, 0.        , 0.        , 0.        ,\n",
       "       0.01688546, 0.00525536, 0.00363614, 0.        , 0.00604273,\n",
       "       0.08552377, 0.24803022, 0.00622209, 0.00797105, 0.00968033])"
      ]
     },
     "execution_count": 11,
     "metadata": {},
     "output_type": "execute_result"
    }
   ],
   "source": [
    "tree_2.feature_importances_"
   ]
  },
  {
   "cell_type": "markdown",
   "metadata": {},
   "source": [
    "It seems like the highest accuracy for the test set is with the parameters of max depth = 7 and max features = 14. "
   ]
  },
  {
   "cell_type": "code",
   "execution_count": 89,
   "metadata": {},
   "outputs": [
    {
     "name": "stdout",
     "output_type": "stream",
     "text": [
      "Accuracy for Decision Tree Training set: 0.81654\n",
      "Accuracy for Decision Tree Test set: 0.79858\n",
      "[[1420  164]\n",
      " [ 261  265]]\n",
      "              precision    recall  f1-score   support\n",
      "\n",
      "           0       0.84      0.90      0.87      1584\n",
      "           1       0.62      0.50      0.55       526\n",
      "\n",
      "    accuracy                           0.80      2110\n",
      "   macro avg       0.73      0.70      0.71      2110\n",
      "weighted avg       0.79      0.80      0.79      2110\n",
      "\n"
     ]
    }
   ],
   "source": [
    "tree_3 = DecisionTreeClassifier(max_depth=7,criterion=\"entropy\",max_features=14,random_state=0)\n",
    "tree_3.fit(X_train_scaled,Y_train)\n",
    "\n",
    "print(\"Accuracy for Decision Tree Training set: %.5f\" %(tree_3.score(X_train_scaled,Y_train)))\n",
    "print(\"Accuracy for Decision Tree Test set: %.5f\" %(tree_3.score(X_test_scaled,Y_test)))\n",
    "\n",
    "\n",
    "print(confusion_matrix(Y_test,tree_3.predict(X_test_scaled)))\n",
    "print(classification_report(Y_test,tree_3.predict(X_test_scaled)))"
   ]
  },
  {
   "cell_type": "code",
   "execution_count": 90,
   "metadata": {},
   "outputs": [
    {
     "data": {
      "image/png": "[encoded data removed]",
      "text/plain": [
       "<Figure size 432x288 with 1 Axes>"
      ]
     },
     "metadata": {
      "needs_background": "light"
     },
     "output_type": "display_data"
    }
   ],
   "source": [
    "#For the best-performing decision tree model, plot an ROC curve\n",
    "\n",
    "plot_roc_curve(tree_3.predict(X_test_scaled),tree_3.predict_proba(X_test_scaled)[:,1])"
   ]
  },
  {
   "cell_type": "markdown",
   "metadata": {},
   "source": [
    "The precision rate is 62%, and the recall rate is 50% for this decision tree model, and its AUC is 0.700."
   ]
  },
  {
   "cell_type": "code",
   "execution_count": 91,
   "metadata": {},
   "outputs": [
    {
     "name": "stderr",
     "output_type": "stream",
     "text": [
      "C:\\Users\\phion\\Anaconda3\\lib\\site-packages\\ipykernel_launcher.py:6: DataConversionWarning: A column-vector y was passed when a 1d array was expected. Please change the shape of y to (n_samples,), for example using ravel().\n",
      "  \n"
     ]
    },
    {
     "data": {
      "text/plain": [
       "RandomForestClassifier(bootstrap=True, class_weight=None, criterion='entropy',\n",
       "                       max_depth=None, max_features='auto', max_leaf_nodes=None,\n",
       "                       min_impurity_decrease=0.0, min_impurity_split=None,\n",
       "                       min_samples_leaf=1, min_samples_split=2,\n",
       "                       min_weight_fraction_leaf=0.0, n_estimators=100,\n",
       "                       n_jobs=None, oob_score=False, random_state=None,\n",
       "                       verbose=0, warm_start=False)"
      ]
     },
     "execution_count": 91,
     "metadata": {},
     "output_type": "execute_result"
    }
   ],
   "source": [
    "#Creating random forest models\n",
    "\n",
    "from sklearn.ensemble import RandomForestClassifier\n",
    "\n",
    "rf_1 =RandomForestClassifier(n_estimators=100,criterion=\"entropy\")\n",
    "rf_1.fit(X_train_scaled,Y_train)"
   ]
  },
  {
   "cell_type": "code",
   "execution_count": 92,
   "metadata": {},
   "outputs": [
    {
     "name": "stdout",
     "output_type": "stream",
     "text": [
      "Accuracy for Random Forest Training set: 0.99797\n",
      "Accuracy for Random Forest Test set: 0.79716\n"
     ]
    }
   ],
   "source": [
    "print(\"Accuracy for Random Forest Training set: %.5f\" %(rf_1.score(X_train_scaled,Y_train)))\n",
    "print(\"Accuracy for Random Forest Test set: %.5f\" %(rf_1.score(X_test_scaled,Y_test)))"
   ]
  },
  {
   "cell_type": "code",
   "execution_count": 93,
   "metadata": {},
   "outputs": [
    {
     "name": "stdout",
     "output_type": "stream",
     "text": [
      "[[1414  170]\n",
      " [ 258  268]]\n",
      "              precision    recall  f1-score   support\n",
      "\n",
      "           0       0.85      0.89      0.87      1584\n",
      "           1       0.61      0.51      0.56       526\n",
      "\n",
      "    accuracy                           0.80      2110\n",
      "   macro avg       0.73      0.70      0.71      2110\n",
      "weighted avg       0.79      0.80      0.79      2110\n",
      "\n"
     ]
    }
   ],
   "source": [
    "print(confusion_matrix(Y_test,rf_1.predict(X_test_scaled)))\n",
    "print(classification_report(Y_test,rf_1.predict(X_test_scaled)))"
   ]
  },
  {
   "cell_type": "markdown",
   "metadata": {},
   "source": [
    "For random forest, the accuracy for training set is very high, but unfortunately is much lower for the test set. Let's play around with the n_estimators and max_features parameters.\n"
   ]
  },
  {
   "cell_type": "code",
   "execution_count": 94,
   "metadata": {},
   "outputs": [
    {
     "name": "stderr",
     "output_type": "stream",
     "text": [
      "C:\\Users\\phion\\Anaconda3\\lib\\site-packages\\ipykernel_launcher.py:7: DataConversionWarning: A column-vector y was passed when a 1d array was expected. Please change the shape of y to (n_samples,), for example using ravel().\n",
      "  import sys\n"
     ]
    },
    {
     "name": "stdout",
     "output_type": "stream",
     "text": [
      "Accuracy for Random Forest Training set, n estimator: 30 Max Features: 5 : 0.99512\n",
      "Accuracy for Random Forest Test set, n estimator: 30 Max Features: 5 : 0.78626\n",
      "\n"
     ]
    },
    {
     "name": "stderr",
     "output_type": "stream",
     "text": [
      "C:\\Users\\phion\\Anaconda3\\lib\\site-packages\\ipykernel_launcher.py:7: DataConversionWarning: A column-vector y was passed when a 1d array was expected. Please change the shape of y to (n_samples,), for example using ravel().\n",
      "  import sys\n"
     ]
    },
    {
     "name": "stdout",
     "output_type": "stream",
     "text": [
      "Accuracy for Random Forest Training set, n estimator: 30 Max Features: 8 : 0.99573\n",
      "Accuracy for Random Forest Test set, n estimator: 30 Max Features: 8 : 0.78768\n",
      "\n"
     ]
    },
    {
     "name": "stderr",
     "output_type": "stream",
     "text": [
      "C:\\Users\\phion\\Anaconda3\\lib\\site-packages\\ipykernel_launcher.py:7: DataConversionWarning: A column-vector y was passed when a 1d array was expected. Please change the shape of y to (n_samples,), for example using ravel().\n",
      "  import sys\n"
     ]
    },
    {
     "name": "stdout",
     "output_type": "stream",
     "text": [
      "Accuracy for Random Forest Training set, n estimator: 30 Max Features: 10 : 0.99553\n",
      "Accuracy for Random Forest Test set, n estimator: 30 Max Features: 10 : 0.79526\n",
      "\n"
     ]
    },
    {
     "name": "stderr",
     "output_type": "stream",
     "text": [
      "C:\\Users\\phion\\Anaconda3\\lib\\site-packages\\ipykernel_launcher.py:7: DataConversionWarning: A column-vector y was passed when a 1d array was expected. Please change the shape of y to (n_samples,), for example using ravel().\n",
      "  import sys\n"
     ]
    },
    {
     "name": "stdout",
     "output_type": "stream",
     "text": [
      "Accuracy for Random Forest Training set, n estimator: 30 Max Features: 15 : 0.99533\n",
      "Accuracy for Random Forest Test set, n estimator: 30 Max Features: 15 : 0.79431\n",
      "\n"
     ]
    },
    {
     "name": "stderr",
     "output_type": "stream",
     "text": [
      "C:\\Users\\phion\\Anaconda3\\lib\\site-packages\\ipykernel_launcher.py:7: DataConversionWarning: A column-vector y was passed when a 1d array was expected. Please change the shape of y to (n_samples,), for example using ravel().\n",
      "  import sys\n"
     ]
    },
    {
     "name": "stdout",
     "output_type": "stream",
     "text": [
      "Accuracy for Random Forest Training set, n estimator: 30 Max Features: 20 : 0.99512\n",
      "Accuracy for Random Forest Test set, n estimator: 30 Max Features: 20 : 0.79289\n",
      "\n"
     ]
    },
    {
     "name": "stderr",
     "output_type": "stream",
     "text": [
      "C:\\Users\\phion\\Anaconda3\\lib\\site-packages\\ipykernel_launcher.py:7: DataConversionWarning: A column-vector y was passed when a 1d array was expected. Please change the shape of y to (n_samples,), for example using ravel().\n",
      "  import sys\n"
     ]
    },
    {
     "name": "stdout",
     "output_type": "stream",
     "text": [
      "Accuracy for Random Forest Training set, n estimator: 50 Max Features: 5 : 0.99797\n",
      "Accuracy for Random Forest Test set, n estimator: 50 Max Features: 5 : 0.79194\n",
      "\n"
     ]
    },
    {
     "name": "stderr",
     "output_type": "stream",
     "text": [
      "C:\\Users\\phion\\Anaconda3\\lib\\site-packages\\ipykernel_launcher.py:7: DataConversionWarning: A column-vector y was passed when a 1d array was expected. Please change the shape of y to (n_samples,), for example using ravel().\n",
      "  import sys\n"
     ]
    },
    {
     "name": "stdout",
     "output_type": "stream",
     "text": [
      "Accuracy for Random Forest Training set, n estimator: 50 Max Features: 8 : 0.99797\n",
      "Accuracy for Random Forest Test set, n estimator: 50 Max Features: 8 : 0.79005\n",
      "\n"
     ]
    },
    {
     "name": "stderr",
     "output_type": "stream",
     "text": [
      "C:\\Users\\phion\\Anaconda3\\lib\\site-packages\\ipykernel_launcher.py:7: DataConversionWarning: A column-vector y was passed when a 1d array was expected. Please change the shape of y to (n_samples,), for example using ravel().\n",
      "  import sys\n"
     ]
    },
    {
     "name": "stdout",
     "output_type": "stream",
     "text": [
      "Accuracy for Random Forest Training set, n estimator: 50 Max Features: 10 : 0.99736\n",
      "Accuracy for Random Forest Test set, n estimator: 50 Max Features: 10 : 0.79668\n",
      "\n"
     ]
    },
    {
     "name": "stderr",
     "output_type": "stream",
     "text": [
      "C:\\Users\\phion\\Anaconda3\\lib\\site-packages\\ipykernel_launcher.py:7: DataConversionWarning: A column-vector y was passed when a 1d array was expected. Please change the shape of y to (n_samples,), for example using ravel().\n",
      "  import sys\n"
     ]
    },
    {
     "name": "stdout",
     "output_type": "stream",
     "text": [
      "Accuracy for Random Forest Training set, n estimator: 50 Max Features: 15 : 0.99777\n",
      "Accuracy for Random Forest Test set, n estimator: 50 Max Features: 15 : 0.79100\n",
      "\n"
     ]
    },
    {
     "name": "stderr",
     "output_type": "stream",
     "text": [
      "C:\\Users\\phion\\Anaconda3\\lib\\site-packages\\ipykernel_launcher.py:7: DataConversionWarning: A column-vector y was passed when a 1d array was expected. Please change the shape of y to (n_samples,), for example using ravel().\n",
      "  import sys\n"
     ]
    },
    {
     "name": "stdout",
     "output_type": "stream",
     "text": [
      "Accuracy for Random Forest Training set, n estimator: 50 Max Features: 20 : 0.99756\n",
      "Accuracy for Random Forest Test set, n estimator: 50 Max Features: 20 : 0.79147\n",
      "\n"
     ]
    },
    {
     "name": "stderr",
     "output_type": "stream",
     "text": [
      "C:\\Users\\phion\\Anaconda3\\lib\\site-packages\\ipykernel_launcher.py:7: DataConversionWarning: A column-vector y was passed when a 1d array was expected. Please change the shape of y to (n_samples,), for example using ravel().\n",
      "  import sys\n"
     ]
    },
    {
     "name": "stdout",
     "output_type": "stream",
     "text": [
      "Accuracy for Random Forest Training set, n estimator: 80 Max Features: 5 : 0.99797\n",
      "Accuracy for Random Forest Test set, n estimator: 80 Max Features: 5 : 0.79384\n",
      "\n"
     ]
    },
    {
     "name": "stderr",
     "output_type": "stream",
     "text": [
      "C:\\Users\\phion\\Anaconda3\\lib\\site-packages\\ipykernel_launcher.py:7: DataConversionWarning: A column-vector y was passed when a 1d array was expected. Please change the shape of y to (n_samples,), for example using ravel().\n",
      "  import sys\n"
     ]
    },
    {
     "name": "stdout",
     "output_type": "stream",
     "text": [
      "Accuracy for Random Forest Training set, n estimator: 80 Max Features: 8 : 0.99797\n",
      "Accuracy for Random Forest Test set, n estimator: 80 Max Features: 8 : 0.79431\n",
      "\n"
     ]
    },
    {
     "name": "stderr",
     "output_type": "stream",
     "text": [
      "C:\\Users\\phion\\Anaconda3\\lib\\site-packages\\ipykernel_launcher.py:7: DataConversionWarning: A column-vector y was passed when a 1d array was expected. Please change the shape of y to (n_samples,), for example using ravel().\n",
      "  import sys\n"
     ]
    },
    {
     "name": "stdout",
     "output_type": "stream",
     "text": [
      "Accuracy for Random Forest Training set, n estimator: 80 Max Features: 10 : 0.99797\n",
      "Accuracy for Random Forest Test set, n estimator: 80 Max Features: 10 : 0.79953\n",
      "\n"
     ]
    },
    {
     "name": "stderr",
     "output_type": "stream",
     "text": [
      "C:\\Users\\phion\\Anaconda3\\lib\\site-packages\\ipykernel_launcher.py:7: DataConversionWarning: A column-vector y was passed when a 1d array was expected. Please change the shape of y to (n_samples,), for example using ravel().\n",
      "  import sys\n"
     ]
    },
    {
     "name": "stdout",
     "output_type": "stream",
     "text": [
      "Accuracy for Random Forest Training set, n estimator: 80 Max Features: 15 : 0.99797\n",
      "Accuracy for Random Forest Test set, n estimator: 80 Max Features: 15 : 0.79289\n",
      "\n"
     ]
    },
    {
     "name": "stderr",
     "output_type": "stream",
     "text": [
      "C:\\Users\\phion\\Anaconda3\\lib\\site-packages\\ipykernel_launcher.py:7: DataConversionWarning: A column-vector y was passed when a 1d array was expected. Please change the shape of y to (n_samples,), for example using ravel().\n",
      "  import sys\n"
     ]
    },
    {
     "name": "stdout",
     "output_type": "stream",
     "text": [
      "Accuracy for Random Forest Training set, n estimator: 80 Max Features: 20 : 0.99797\n",
      "Accuracy for Random Forest Test set, n estimator: 80 Max Features: 20 : 0.79052\n",
      "\n"
     ]
    },
    {
     "name": "stderr",
     "output_type": "stream",
     "text": [
      "C:\\Users\\phion\\Anaconda3\\lib\\site-packages\\ipykernel_launcher.py:7: DataConversionWarning: A column-vector y was passed when a 1d array was expected. Please change the shape of y to (n_samples,), for example using ravel().\n",
      "  import sys\n"
     ]
    },
    {
     "name": "stdout",
     "output_type": "stream",
     "text": [
      "Accuracy for Random Forest Training set, n estimator: 100 Max Features: 5 : 0.99797\n",
      "Accuracy for Random Forest Test set, n estimator: 100 Max Features: 5 : 0.79621\n",
      "\n"
     ]
    },
    {
     "name": "stderr",
     "output_type": "stream",
     "text": [
      "C:\\Users\\phion\\Anaconda3\\lib\\site-packages\\ipykernel_launcher.py:7: DataConversionWarning: A column-vector y was passed when a 1d array was expected. Please change the shape of y to (n_samples,), for example using ravel().\n",
      "  import sys\n"
     ]
    },
    {
     "name": "stdout",
     "output_type": "stream",
     "text": [
      "Accuracy for Random Forest Training set, n estimator: 100 Max Features: 8 : 0.99797\n",
      "Accuracy for Random Forest Test set, n estimator: 100 Max Features: 8 : 0.79810\n",
      "\n"
     ]
    },
    {
     "name": "stderr",
     "output_type": "stream",
     "text": [
      "C:\\Users\\phion\\Anaconda3\\lib\\site-packages\\ipykernel_launcher.py:7: DataConversionWarning: A column-vector y was passed when a 1d array was expected. Please change the shape of y to (n_samples,), for example using ravel().\n",
      "  import sys\n"
     ]
    },
    {
     "name": "stdout",
     "output_type": "stream",
     "text": [
      "Accuracy for Random Forest Training set, n estimator: 100 Max Features: 10 : 0.99797\n",
      "Accuracy for Random Forest Test set, n estimator: 100 Max Features: 10 : 0.80047\n",
      "\n"
     ]
    },
    {
     "name": "stderr",
     "output_type": "stream",
     "text": [
      "C:\\Users\\phion\\Anaconda3\\lib\\site-packages\\ipykernel_launcher.py:7: DataConversionWarning: A column-vector y was passed when a 1d array was expected. Please change the shape of y to (n_samples,), for example using ravel().\n",
      "  import sys\n"
     ]
    },
    {
     "name": "stdout",
     "output_type": "stream",
     "text": [
      "Accuracy for Random Forest Training set, n estimator: 100 Max Features: 15 : 0.99797\n",
      "Accuracy for Random Forest Test set, n estimator: 100 Max Features: 15 : 0.79479\n",
      "\n"
     ]
    },
    {
     "name": "stderr",
     "output_type": "stream",
     "text": [
      "C:\\Users\\phion\\Anaconda3\\lib\\site-packages\\ipykernel_launcher.py:7: DataConversionWarning: A column-vector y was passed when a 1d array was expected. Please change the shape of y to (n_samples,), for example using ravel().\n",
      "  import sys\n"
     ]
    },
    {
     "name": "stdout",
     "output_type": "stream",
     "text": [
      "Accuracy for Random Forest Training set, n estimator: 100 Max Features: 20 : 0.99797\n",
      "Accuracy for Random Forest Test set, n estimator: 100 Max Features: 20 : 0.79289\n",
      "\n"
     ]
    },
    {
     "name": "stderr",
     "output_type": "stream",
     "text": [
      "C:\\Users\\phion\\Anaconda3\\lib\\site-packages\\ipykernel_launcher.py:7: DataConversionWarning: A column-vector y was passed when a 1d array was expected. Please change the shape of y to (n_samples,), for example using ravel().\n",
      "  import sys\n"
     ]
    },
    {
     "name": "stdout",
     "output_type": "stream",
     "text": [
      "Accuracy for Random Forest Training set, n estimator: 120 Max Features: 5 : 0.99797\n",
      "Accuracy for Random Forest Test set, n estimator: 120 Max Features: 5 : 0.79763\n",
      "\n"
     ]
    },
    {
     "name": "stderr",
     "output_type": "stream",
     "text": [
      "C:\\Users\\phion\\Anaconda3\\lib\\site-packages\\ipykernel_launcher.py:7: DataConversionWarning: A column-vector y was passed when a 1d array was expected. Please change the shape of y to (n_samples,), for example using ravel().\n",
      "  import sys\n"
     ]
    },
    {
     "name": "stdout",
     "output_type": "stream",
     "text": [
      "Accuracy for Random Forest Training set, n estimator: 120 Max Features: 8 : 0.99797\n",
      "Accuracy for Random Forest Test set, n estimator: 120 Max Features: 8 : 0.79810\n",
      "\n"
     ]
    },
    {
     "name": "stderr",
     "output_type": "stream",
     "text": [
      "C:\\Users\\phion\\Anaconda3\\lib\\site-packages\\ipykernel_launcher.py:7: DataConversionWarning: A column-vector y was passed when a 1d array was expected. Please change the shape of y to (n_samples,), for example using ravel().\n",
      "  import sys\n"
     ]
    },
    {
     "name": "stdout",
     "output_type": "stream",
     "text": [
      "Accuracy for Random Forest Training set, n estimator: 120 Max Features: 10 : 0.99797\n",
      "Accuracy for Random Forest Test set, n estimator: 120 Max Features: 10 : 0.80142\n",
      "\n"
     ]
    },
    {
     "name": "stderr",
     "output_type": "stream",
     "text": [
      "C:\\Users\\phion\\Anaconda3\\lib\\site-packages\\ipykernel_launcher.py:7: DataConversionWarning: A column-vector y was passed when a 1d array was expected. Please change the shape of y to (n_samples,), for example using ravel().\n",
      "  import sys\n"
     ]
    },
    {
     "name": "stdout",
     "output_type": "stream",
     "text": [
      "Accuracy for Random Forest Training set, n estimator: 120 Max Features: 15 : 0.99797\n",
      "Accuracy for Random Forest Test set, n estimator: 120 Max Features: 15 : 0.79242\n",
      "\n"
     ]
    },
    {
     "name": "stderr",
     "output_type": "stream",
     "text": [
      "C:\\Users\\phion\\Anaconda3\\lib\\site-packages\\ipykernel_launcher.py:7: DataConversionWarning: A column-vector y was passed when a 1d array was expected. Please change the shape of y to (n_samples,), for example using ravel().\n",
      "  import sys\n"
     ]
    },
    {
     "name": "stdout",
     "output_type": "stream",
     "text": [
      "Accuracy for Random Forest Training set, n estimator: 120 Max Features: 20 : 0.99797\n",
      "Accuracy for Random Forest Test set, n estimator: 120 Max Features: 20 : 0.79573\n",
      "\n"
     ]
    }
   ],
   "source": [
    "list_of_n_estimators = [30,50,80,100,120]\n",
    "max_features = [5,8,10,15,20]\n",
    "\n",
    "for i in list_of_n_estimators:\n",
    "    for j in max_features:\n",
    "        rf_2 =RandomForestClassifier(n_estimators=i, max_features=j, criterion=\"entropy\",random_state=0)\n",
    "        rf_2.fit(X_train_scaled,Y_train)\n",
    "        print(\"Accuracy for Random Forest Training set, n estimator: %i Max Features: %i : %.5f\" %(i,j,rf_2.score(X_train_scaled,Y_train)))\n",
    "        print(\"Accuracy for Random Forest Test set, n estimator: %i Max Features: %i : %.5f\" %(i,j,rf_2.score(X_test_scaled,Y_test)))\n",
    "        print(\"\")"
   ]
  },
  {
   "cell_type": "markdown",
   "metadata": {},
   "source": [
    "With an n_estimator of 120 and max features = 10, random forest achieved a 80.142% accuracy on the test set. "
   ]
  },
  {
   "cell_type": "code",
   "execution_count": 43,
   "metadata": {},
   "outputs": [
    {
     "name": "stderr",
     "output_type": "stream",
     "text": [
      "C:\\Users\\phion\\Anaconda3\\lib\\site-packages\\ipykernel_launcher.py:2: DataConversionWarning: A column-vector y was passed when a 1d array was expected. Please change the shape of y to (n_samples,), for example using ravel().\n",
      "  \n"
     ]
    },
    {
     "name": "stdout",
     "output_type": "stream",
     "text": [
      "Accuracy for Random Forest Training set, n estimator: 50 Max Features: 10 : 0.99797\n",
      "Accuracy for Random Forest Test set, n estimator: 50 Max Features: 10 : 0.80142\n",
      "\n",
      "[[1414  170]\n",
      " [ 249  277]]\n",
      "              precision    recall  f1-score   support\n",
      "\n",
      "           0       0.85      0.89      0.87      1584\n",
      "           1       0.62      0.53      0.57       526\n",
      "\n",
      "    accuracy                           0.80      2110\n",
      "   macro avg       0.73      0.71      0.72      2110\n",
      "weighted avg       0.79      0.80      0.80      2110\n",
      "\n"
     ]
    }
   ],
   "source": [
    "rf_3 =RandomForestClassifier(n_estimators=120, max_features=10, criterion=\"entropy\",random_state=0)\n",
    "rf_3.fit(X_train_scaled,Y_train)\n",
    "\n",
    "print(\"Accuracy for Random Forest Training set, n estimator: 50 Max Features: 10 : %.5f\" %(rf_3.score(X_train_scaled,Y_train)))\n",
    "print(\"Accuracy for Random Forest Test set, n estimator: 50 Max Features: 10 : %.5f\" %(rf_3.score(X_test_scaled,Y_test)))\n",
    "print(\"\")\n",
    "print(confusion_matrix(Y_test,rf_3.predict(X_test_scaled)))\n",
    "print(classification_report(Y_test,rf_3.predict(X_test_scaled)))"
   ]
  },
  {
   "cell_type": "code",
   "execution_count": 44,
   "metadata": {},
   "outputs": [
    {
     "data": {
      "image/png": "[encoded data removed]",
      "text/plain": [
       "<Figure size 432x288 with 1 Axes>"
      ]
     },
     "metadata": {
      "needs_background": "light"
     },
     "output_type": "display_data"
    }
   ],
   "source": [
    "plot_roc_curve(rf_3.predict(X_test_scaled),rf_3.predict_proba(X_test_scaled)[:,1])"
   ]
  },
  {
   "cell_type": "markdown",
   "metadata": {},
   "source": [
    "Its precision and recall percentages are 62% and 53%, which are higher than the model which uses a single decision tree, and its AUC is 0.710, as compared to 0.700 for a single decision tree."
   ]
  },
  {
   "cell_type": "code",
   "execution_count": 95,
   "metadata": {},
   "outputs": [
    {
     "name": "stderr",
     "output_type": "stream",
     "text": [
      "C:\\Users\\phion\\Anaconda3\\lib\\site-packages\\sklearn\\ensemble\\gradient_boosting.py:1450: DataConversionWarning: A column-vector y was passed when a 1d array was expected. Please change the shape of y to (n_samples, ), for example using ravel().\n",
      "  y = column_or_1d(y, warn=True)\n"
     ]
    },
    {
     "data": {
      "text/plain": [
       "GradientBoostingClassifier(criterion='friedman_mse', init=None,\n",
       "                           learning_rate=0.1, loss='deviance', max_depth=3,\n",
       "                           max_features=None, max_leaf_nodes=None,\n",
       "                           min_impurity_decrease=0.0, min_impurity_split=None,\n",
       "                           min_samples_leaf=1, min_samples_split=2,\n",
       "                           min_weight_fraction_leaf=0.0, n_estimators=50,\n",
       "                           n_iter_no_change=None, presort='auto',\n",
       "                           random_state=None, subsample=1.0, tol=0.0001,\n",
       "                           validation_fraction=0.1, verbose=0,\n",
       "                           warm_start=False)"
      ]
     },
     "execution_count": 95,
     "metadata": {},
     "output_type": "execute_result"
    }
   ],
   "source": [
    "#Lets build GBDT models\n",
    "\n",
    "from sklearn.ensemble import GradientBoostingClassifier\n",
    "\n",
    "grd = GradientBoostingClassifier(n_estimators=50)\n",
    "grd.fit(X_train_scaled,Y_train)"
   ]
  },
  {
   "cell_type": "code",
   "execution_count": 96,
   "metadata": {},
   "outputs": [
    {
     "name": "stdout",
     "output_type": "stream",
     "text": [
      "Accuracy for Gradient Boosting Decision Tree Training set: 0.81471\n",
      "Accuracy for Gradient Boosting Decision Tree Test set: 0.80616\n"
     ]
    }
   ],
   "source": [
    "print(\"Accuracy for Gradient Boosting Decision Tree Training set: %.5f\" %(grd.score(X_train_scaled,Y_train)))\n",
    "print(\"Accuracy for Gradient Boosting Decision Tree Test set: %.5f\" %(grd.score(X_test_scaled,Y_test)))"
   ]
  },
  {
   "cell_type": "code",
   "execution_count": 97,
   "metadata": {},
   "outputs": [
    {
     "name": "stdout",
     "output_type": "stream",
     "text": [
      "[[1431  153]\n",
      " [ 256  270]]\n",
      "              precision    recall  f1-score   support\n",
      "\n",
      "           0       0.85      0.90      0.87      1584\n",
      "           1       0.64      0.51      0.57       526\n",
      "\n",
      "    accuracy                           0.81      2110\n",
      "   macro avg       0.74      0.71      0.72      2110\n",
      "weighted avg       0.80      0.81      0.80      2110\n",
      "\n"
     ]
    }
   ],
   "source": [
    "print(confusion_matrix(Y_test,grd.predict(X_test_scaled)))\n",
    "print(classification_report(Y_test,grd.predict(X_test_scaled)))"
   ]
  },
  {
   "cell_type": "code",
   "execution_count": 98,
   "metadata": {},
   "outputs": [
    {
     "name": "stderr",
     "output_type": "stream",
     "text": [
      "C:\\Users\\phion\\Anaconda3\\lib\\site-packages\\sklearn\\ensemble\\gradient_boosting.py:1450: DataConversionWarning: A column-vector y was passed when a 1d array was expected. Please change the shape of y to (n_samples, ), for example using ravel().\n",
      "  y = column_or_1d(y, warn=True)\n"
     ]
    },
    {
     "name": "stdout",
     "output_type": "stream",
     "text": [
      "Accuracy for GBDT Training set, Max Depth: 3 Max Features: 10 : 0.81329\n",
      "Accuracy for GBDT Forest Test set, Max Depth: 3 Max Features: 10 : 0.80616\n",
      "\n"
     ]
    },
    {
     "name": "stderr",
     "output_type": "stream",
     "text": [
      "C:\\Users\\phion\\Anaconda3\\lib\\site-packages\\sklearn\\ensemble\\gradient_boosting.py:1450: DataConversionWarning: A column-vector y was passed when a 1d array was expected. Please change the shape of y to (n_samples, ), for example using ravel().\n",
      "  y = column_or_1d(y, warn=True)\n"
     ]
    },
    {
     "name": "stdout",
     "output_type": "stream",
     "text": [
      "Accuracy for GBDT Training set, Max Depth: 3 Max Features: 15 : 0.81308\n",
      "Accuracy for GBDT Forest Test set, Max Depth: 3 Max Features: 15 : 0.80379\n",
      "\n"
     ]
    },
    {
     "name": "stderr",
     "output_type": "stream",
     "text": [
      "C:\\Users\\phion\\Anaconda3\\lib\\site-packages\\sklearn\\ensemble\\gradient_boosting.py:1450: DataConversionWarning: A column-vector y was passed when a 1d array was expected. Please change the shape of y to (n_samples, ), for example using ravel().\n",
      "  y = column_or_1d(y, warn=True)\n"
     ]
    },
    {
     "name": "stdout",
     "output_type": "stream",
     "text": [
      "Accuracy for GBDT Training set, Max Depth: 3 Max Features: 20 : 0.81207\n",
      "Accuracy for GBDT Forest Test set, Max Depth: 3 Max Features: 20 : 0.80379\n",
      "\n"
     ]
    },
    {
     "name": "stderr",
     "output_type": "stream",
     "text": [
      "C:\\Users\\phion\\Anaconda3\\lib\\site-packages\\sklearn\\ensemble\\gradient_boosting.py:1450: DataConversionWarning: A column-vector y was passed when a 1d array was expected. Please change the shape of y to (n_samples, ), for example using ravel().\n",
      "  y = column_or_1d(y, warn=True)\n"
     ]
    },
    {
     "name": "stdout",
     "output_type": "stream",
     "text": [
      "Accuracy for GBDT Training set, Max Depth: 4 Max Features: 10 : 0.81979\n",
      "Accuracy for GBDT Forest Test set, Max Depth: 4 Max Features: 10 : 0.80995\n",
      "\n"
     ]
    },
    {
     "name": "stderr",
     "output_type": "stream",
     "text": [
      "C:\\Users\\phion\\Anaconda3\\lib\\site-packages\\sklearn\\ensemble\\gradient_boosting.py:1450: DataConversionWarning: A column-vector y was passed when a 1d array was expected. Please change the shape of y to (n_samples, ), for example using ravel().\n",
      "  y = column_or_1d(y, warn=True)\n"
     ]
    },
    {
     "name": "stdout",
     "output_type": "stream",
     "text": [
      "Accuracy for GBDT Training set, Max Depth: 4 Max Features: 15 : 0.82629\n",
      "Accuracy for GBDT Forest Test set, Max Depth: 4 Max Features: 15 : 0.80758\n",
      "\n"
     ]
    },
    {
     "name": "stderr",
     "output_type": "stream",
     "text": [
      "C:\\Users\\phion\\Anaconda3\\lib\\site-packages\\sklearn\\ensemble\\gradient_boosting.py:1450: DataConversionWarning: A column-vector y was passed when a 1d array was expected. Please change the shape of y to (n_samples, ), for example using ravel().\n",
      "  y = column_or_1d(y, warn=True)\n"
     ]
    },
    {
     "name": "stdout",
     "output_type": "stream",
     "text": [
      "Accuracy for GBDT Training set, Max Depth: 4 Max Features: 20 : 0.82284\n",
      "Accuracy for GBDT Forest Test set, Max Depth: 4 Max Features: 20 : 0.80616\n",
      "\n"
     ]
    },
    {
     "name": "stderr",
     "output_type": "stream",
     "text": [
      "C:\\Users\\phion\\Anaconda3\\lib\\site-packages\\sklearn\\ensemble\\gradient_boosting.py:1450: DataConversionWarning: A column-vector y was passed when a 1d array was expected. Please change the shape of y to (n_samples, ), for example using ravel().\n",
      "  y = column_or_1d(y, warn=True)\n"
     ]
    },
    {
     "name": "stdout",
     "output_type": "stream",
     "text": [
      "Accuracy for GBDT Training set, Max Depth: 5 Max Features: 10 : 0.83401\n",
      "Accuracy for GBDT Forest Test set, Max Depth: 5 Max Features: 10 : 0.80190\n",
      "\n"
     ]
    },
    {
     "name": "stderr",
     "output_type": "stream",
     "text": [
      "C:\\Users\\phion\\Anaconda3\\lib\\site-packages\\sklearn\\ensemble\\gradient_boosting.py:1450: DataConversionWarning: A column-vector y was passed when a 1d array was expected. Please change the shape of y to (n_samples, ), for example using ravel().\n",
      "  y = column_or_1d(y, warn=True)\n"
     ]
    },
    {
     "name": "stdout",
     "output_type": "stream",
     "text": [
      "Accuracy for GBDT Training set, Max Depth: 5 Max Features: 15 : 0.83807\n",
      "Accuracy for GBDT Forest Test set, Max Depth: 5 Max Features: 15 : 0.80474\n",
      "\n"
     ]
    },
    {
     "name": "stderr",
     "output_type": "stream",
     "text": [
      "C:\\Users\\phion\\Anaconda3\\lib\\site-packages\\sklearn\\ensemble\\gradient_boosting.py:1450: DataConversionWarning: A column-vector y was passed when a 1d array was expected. Please change the shape of y to (n_samples, ), for example using ravel().\n",
      "  y = column_or_1d(y, warn=True)\n"
     ]
    },
    {
     "name": "stdout",
     "output_type": "stream",
     "text": [
      "Accuracy for GBDT Training set, Max Depth: 5 Max Features: 20 : 0.84072\n",
      "Accuracy for GBDT Forest Test set, Max Depth: 5 Max Features: 20 : 0.80095\n",
      "\n"
     ]
    },
    {
     "name": "stderr",
     "output_type": "stream",
     "text": [
      "C:\\Users\\phion\\Anaconda3\\lib\\site-packages\\sklearn\\ensemble\\gradient_boosting.py:1450: DataConversionWarning: A column-vector y was passed when a 1d array was expected. Please change the shape of y to (n_samples, ), for example using ravel().\n",
      "  y = column_or_1d(y, warn=True)\n"
     ]
    },
    {
     "name": "stdout",
     "output_type": "stream",
     "text": [
      "Accuracy for GBDT Training set, Max Depth: 6 Max Features: 10 : 0.85555\n",
      "Accuracy for GBDT Forest Test set, Max Depth: 6 Max Features: 10 : 0.80284\n",
      "\n"
     ]
    },
    {
     "name": "stderr",
     "output_type": "stream",
     "text": [
      "C:\\Users\\phion\\Anaconda3\\lib\\site-packages\\sklearn\\ensemble\\gradient_boosting.py:1450: DataConversionWarning: A column-vector y was passed when a 1d array was expected. Please change the shape of y to (n_samples, ), for example using ravel().\n",
      "  y = column_or_1d(y, warn=True)\n"
     ]
    },
    {
     "name": "stdout",
     "output_type": "stream",
     "text": [
      "Accuracy for GBDT Training set, Max Depth: 6 Max Features: 15 : 0.86164\n",
      "Accuracy for GBDT Forest Test set, Max Depth: 6 Max Features: 15 : 0.79810\n",
      "\n"
     ]
    },
    {
     "name": "stderr",
     "output_type": "stream",
     "text": [
      "C:\\Users\\phion\\Anaconda3\\lib\\site-packages\\sklearn\\ensemble\\gradient_boosting.py:1450: DataConversionWarning: A column-vector y was passed when a 1d array was expected. Please change the shape of y to (n_samples, ), for example using ravel().\n",
      "  y = column_or_1d(y, warn=True)\n"
     ]
    },
    {
     "name": "stdout",
     "output_type": "stream",
     "text": [
      "Accuracy for GBDT Training set, Max Depth: 6 Max Features: 20 : 0.86388\n",
      "Accuracy for GBDT Forest Test set, Max Depth: 6 Max Features: 20 : 0.79763\n",
      "\n"
     ]
    },
    {
     "name": "stderr",
     "output_type": "stream",
     "text": [
      "C:\\Users\\phion\\Anaconda3\\lib\\site-packages\\sklearn\\ensemble\\gradient_boosting.py:1450: DataConversionWarning: A column-vector y was passed when a 1d array was expected. Please change the shape of y to (n_samples, ), for example using ravel().\n",
      "  y = column_or_1d(y, warn=True)\n"
     ]
    },
    {
     "name": "stdout",
     "output_type": "stream",
     "text": [
      "Accuracy for GBDT Training set, Max Depth: 7 Max Features: 10 : 0.89212\n",
      "Accuracy for GBDT Forest Test set, Max Depth: 7 Max Features: 10 : 0.79905\n",
      "\n"
     ]
    },
    {
     "name": "stderr",
     "output_type": "stream",
     "text": [
      "C:\\Users\\phion\\Anaconda3\\lib\\site-packages\\sklearn\\ensemble\\gradient_boosting.py:1450: DataConversionWarning: A column-vector y was passed when a 1d array was expected. Please change the shape of y to (n_samples, ), for example using ravel().\n",
      "  y = column_or_1d(y, warn=True)\n"
     ]
    },
    {
     "name": "stdout",
     "output_type": "stream",
     "text": [
      "Accuracy for GBDT Training set, Max Depth: 7 Max Features: 15 : 0.89476\n",
      "Accuracy for GBDT Forest Test set, Max Depth: 7 Max Features: 15 : 0.79573\n",
      "\n"
     ]
    },
    {
     "name": "stderr",
     "output_type": "stream",
     "text": [
      "C:\\Users\\phion\\Anaconda3\\lib\\site-packages\\sklearn\\ensemble\\gradient_boosting.py:1450: DataConversionWarning: A column-vector y was passed when a 1d array was expected. Please change the shape of y to (n_samples, ), for example using ravel().\n",
      "  y = column_or_1d(y, warn=True)\n"
     ]
    },
    {
     "name": "stdout",
     "output_type": "stream",
     "text": [
      "Accuracy for GBDT Training set, Max Depth: 7 Max Features: 20 : 0.90024\n",
      "Accuracy for GBDT Forest Test set, Max Depth: 7 Max Features: 20 : 0.79621\n",
      "\n"
     ]
    },
    {
     "name": "stderr",
     "output_type": "stream",
     "text": [
      "C:\\Users\\phion\\Anaconda3\\lib\\site-packages\\sklearn\\ensemble\\gradient_boosting.py:1450: DataConversionWarning: A column-vector y was passed when a 1d array was expected. Please change the shape of y to (n_samples, ), for example using ravel().\n",
      "  y = column_or_1d(y, warn=True)\n"
     ]
    },
    {
     "name": "stdout",
     "output_type": "stream",
     "text": [
      "Accuracy for GBDT Training set, Max Depth: 8 Max Features: 10 : 0.93336\n",
      "Accuracy for GBDT Forest Test set, Max Depth: 8 Max Features: 10 : 0.79716\n",
      "\n"
     ]
    },
    {
     "name": "stderr",
     "output_type": "stream",
     "text": [
      "C:\\Users\\phion\\Anaconda3\\lib\\site-packages\\sklearn\\ensemble\\gradient_boosting.py:1450: DataConversionWarning: A column-vector y was passed when a 1d array was expected. Please change the shape of y to (n_samples, ), for example using ravel().\n",
      "  y = column_or_1d(y, warn=True)\n"
     ]
    },
    {
     "name": "stdout",
     "output_type": "stream",
     "text": [
      "Accuracy for GBDT Training set, Max Depth: 8 Max Features: 15 : 0.93499\n",
      "Accuracy for GBDT Forest Test set, Max Depth: 8 Max Features: 15 : 0.79147\n",
      "\n"
     ]
    },
    {
     "name": "stderr",
     "output_type": "stream",
     "text": [
      "C:\\Users\\phion\\Anaconda3\\lib\\site-packages\\sklearn\\ensemble\\gradient_boosting.py:1450: DataConversionWarning: A column-vector y was passed when a 1d array was expected. Please change the shape of y to (n_samples, ), for example using ravel().\n",
      "  y = column_or_1d(y, warn=True)\n"
     ]
    },
    {
     "name": "stdout",
     "output_type": "stream",
     "text": [
      "Accuracy for GBDT Training set, Max Depth: 8 Max Features: 20 : 0.94494\n",
      "Accuracy for GBDT Forest Test set, Max Depth: 8 Max Features: 20 : 0.79479\n",
      "\n"
     ]
    }
   ],
   "source": [
    "#Lets play around with the max_depth and max_features variables\n",
    "\n",
    "list_of_max_depth = [3,4,5,6,7,8]\n",
    "list_of_max_features = [10, 15, 20]\n",
    "\n",
    "for i in list_of_max_depth:\n",
    "    for j in list_of_max_features:\n",
    "        grd_2 =GradientBoostingClassifier(max_depth=i, max_features=j,n_estimators=50,random_state=0)\n",
    "        grd_2.fit(X_train_scaled,Y_train)\n",
    "        print(\"Accuracy for GBDT Training set, Max Depth: %i Max Features: %i : %.5f\" %(i,j,grd_2.score(X_train_scaled,Y_train)))\n",
    "        print(\"Accuracy for GBDT Forest Test set, Max Depth: %i Max Features: %i : %.5f\" %(i,j,grd_2.score(X_test_scaled,Y_test)))\n",
    "        print(\"\")"
   ]
  },
  {
   "cell_type": "markdown",
   "metadata": {},
   "source": [
    "It seems like max depth = 4 and max features = 10 yields the best accuracy on the test set. When max depth and max features are too high they face the problem of overfitting."
   ]
  },
  {
   "cell_type": "code",
   "execution_count": 99,
   "metadata": {},
   "outputs": [
    {
     "name": "stderr",
     "output_type": "stream",
     "text": [
      "C:\\Users\\phion\\Anaconda3\\lib\\site-packages\\sklearn\\ensemble\\gradient_boosting.py:1450: DataConversionWarning: A column-vector y was passed when a 1d array was expected. Please change the shape of y to (n_samples, ), for example using ravel().\n",
      "  y = column_or_1d(y, warn=True)\n"
     ]
    },
    {
     "name": "stdout",
     "output_type": "stream",
     "text": [
      "Accuracy for Gradient Boosting Decision Tree Training set: 0.81979\n",
      "Accuracy for Gradient Boosting Decision Tree Test set: 0.80995\n",
      "[[1425  159]\n",
      " [ 242  284]]\n",
      "              precision    recall  f1-score   support\n",
      "\n",
      "           0       0.85      0.90      0.88      1584\n",
      "           1       0.64      0.54      0.59       526\n",
      "\n",
      "    accuracy                           0.81      2110\n",
      "   macro avg       0.75      0.72      0.73      2110\n",
      "weighted avg       0.80      0.81      0.80      2110\n",
      "\n"
     ]
    }
   ],
   "source": [
    "grd_3 = GradientBoostingClassifier(max_depth=4, max_features=10,n_estimators=50,random_state=0).fit(X_train_scaled,Y_train)\n",
    "\n",
    "print(\"Accuracy for Gradient Boosting Decision Tree Training set: %.5f\" %(grd_3.score(X_train_scaled,Y_train)))\n",
    "print(\"Accuracy for Gradient Boosting Decision Tree Test set: %.5f\" %(grd_3.score(X_test_scaled,Y_test)))\n",
    "\n",
    "print(confusion_matrix(Y_test,grd_3.predict(X_test_scaled)))\n",
    "print(classification_report(Y_test,grd_3.predict(X_test_scaled)))"
   ]
  },
  {
   "cell_type": "code",
   "execution_count": 100,
   "metadata": {},
   "outputs": [
    {
     "data": {
      "image/png": "[encoded data removed]",
      "text/plain": [
       "<Figure size 432x288 with 1 Axes>"
      ]
     },
     "metadata": {
      "needs_background": "light"
     },
     "output_type": "display_data"
    }
   ],
   "source": [
    "plot_roc_curve(grd_3.predict(X_test_scaled),grd_3.predict_proba(X_test_scaled)[:,1])"
   ]
  },
  {
   "cell_type": "markdown",
   "metadata": {},
   "source": [
    "The GBDT Model acheived a precision rate of 64% and recall of 54%, with AUC of 0.720. That is higher than the single decision tree model as well as the random forest model. Hence we will choose this model."
   ]
  },
  {
   "cell_type": "markdown",
   "metadata": {},
   "source": [
    "## Question 5 - Final Evaluation"
   ]
  },
  {
   "cell_type": "markdown",
   "metadata": {},
   "source": [
    "First, lets create a dummy model and see how our models accuracy compare to a dummy model."
   ]
  },
  {
   "cell_type": "code",
   "execution_count": 51,
   "metadata": {},
   "outputs": [
    {
     "name": "stdout",
     "output_type": "stream",
     "text": [
      "The score for the dummy model is 0.75071.\n",
      "[[1584    0]\n",
      " [ 526    0]]\n"
     ]
    }
   ],
   "source": [
    "from sklearn.dummy import DummyClassifier\n",
    "\n",
    "# Negative class (0) is most frequent\n",
    "dummy_majority = DummyClassifier(strategy = 'most_frequent').fit(X_train_scaled, Y_train)\n",
    "# Therefore the dummy 'most_frequent' classifier always predicts class 0\n",
    "y_dummy_predictions = dummy_majority.predict(X_test_scaled)\n",
    "\n",
    "print(\"The score for the dummy model is %.5f.\" %(dummy_majority.score(X_test_scaled, Y_test)))\n",
    "print(confusion_matrix(Y_test, y_dummy_predictions))\n",
    "#print(classification_report(Y_test,y_dummy_predictions))"
   ]
  },
  {
   "cell_type": "markdown",
   "metadata": {},
   "source": [
    "All our best models have definitely performed better than a dummy majority model, proving that they are of value. Which model performed the best?\n",
    "\n",
    "For this data set, we probably care more about the positive recall rate rather than precision. We want to know the customers who are highly likely to churn so we can reach out to them earlier to offer them incentives to stay, we probably care less about how much of those we are calling are actually high-risk customers, since we already have a reduced list of who to call. We want to make sure we capture those who are high-risk as much as possible. \n",
    "\n",
    "So we can choose the model that has the highest AUC, but also one that has the highest positive recall rate. We can also evaluate on which model is the least complex."
   ]
  },
  {
   "cell_type": "code",
   "execution_count": 104,
   "metadata": {},
   "outputs": [
    {
     "name": "stdout",
     "output_type": "stream",
     "text": [
      "For Best Logistic Regression Model:\n",
      "Accuracy on test set: 0.80521\n",
      "Positive Recall Rate: 55%\n",
      "AUC: 0.71852\n",
      "Number of Max Features: 8\n",
      "\n",
      "For Best SVC Model:\n",
      "Accuracy on test set: 0.80379\n",
      "Positive Recall Rate: 54%\n",
      "AUC: 0.71567\n",
      "Number of Max Features: 20 \n",
      "\n",
      "For Best Decision Tree Ensemble Model:\n",
      "Accuracy on test set: 0.80995\n",
      "Positive Recall Rate: 54%\n",
      "AUC: 0.71977\n",
      "Number of Max Features: 10\n"
     ]
    }
   ],
   "source": [
    "print(\"For Best Logistic Regression Model:\")\n",
    "print(\"Accuracy on test set: %.5f\" %((clf_4.score(X_test_impt, Y_test))))\n",
    "print(\"Positive Recall Rate: 55%\")\n",
    "print(\"AUC: %.5f\" %( roc_auc_score(Y_test, clf_4.predict(X_test_impt))))\n",
    "print(\"Number of Max Features: 8\")\n",
    "\n",
    "print(\"\\nFor Best SVC Model:\")\n",
    "print(\"Accuracy on test set: %.5f\" %((svc_3.score(X_test_scaled, Y_test))))\n",
    "print(\"Positive Recall Rate: 54%\")\n",
    "print(\"AUC: %.5f\" %( roc_auc_score(Y_test, svc_3.predict(X_test_scaled))))\n",
    "print(\"Number of Max Features: 20 \")\n",
    "\n",
    "print(\"\\nFor Best Decision Tree Ensemble Model:\")\n",
    "print(\"Accuracy on test set: %.5f\" %((grd_3.score(X_test_scaled, Y_test))))\n",
    "print(\"Positive Recall Rate: 54%\")\n",
    "print(\"AUC: %.5f\" %( roc_auc_score(Y_test, grd_3.predict(X_test_scaled))))\n",
    "print(\"Number of Max Features: 10\")\n"
   ]
  },
  {
   "cell_type": "markdown",
   "metadata": {},
   "source": [
    "Based on this, we will choose the GBDT model with these parameters: max_depth=4, max_features=10,n_estimators=50.\n",
    "\n",
    "To further improve the model results, we could create a churn model for each type of customer (phone service customer, internet service customer etc). This way we could better predict the churn for each type of customer. Also, we could use cross-validation to segment the data so we can make sure that the the good results are not a result of being lucky with the random sampling. Another way to improve is balance out the data, since there is a higher proportion of non-churn customers as compared to churn customers in the dataset. These will improve our model."
   ]
  }
 ],
 "metadata": {
  "kernelspec": {
   "display_name": "Python 3",
   "language": "python",
   "name": "python3"
  },
  "language_info": {
   "codemirror_mode": {
    "name": "ipython",
    "version": 3
   },
   "file_extension": ".py",
   "mimetype": "text/x-python",
   "name": "python",
   "nbconvert_exporter": "python",
   "pygments_lexer": "ipython3",
   "version": "3.7.3"
  }
 },
 "nbformat": 4,
 "nbformat_minor": 2
}
